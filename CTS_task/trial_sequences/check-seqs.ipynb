{
 "cells": [
  {
   "cell_type": "code",
   "execution_count": 3,
   "id": "1add7a05",
   "metadata": {},
   "outputs": [],
   "source": [
    "import pandas as pd\n",
    "import os"
   ]
  },
  {
   "cell_type": "code",
   "execution_count": 10,
   "id": "25612509",
   "metadata": {},
   "outputs": [],
   "source": [
    "root = 'tr-200_min-3_tsearch-12'\n",
    "filepattern = 'tr-200_min-3_tsearch-12_0'"
   ]
  },
  {
   "cell_type": "code",
   "execution_count": 12,
   "id": "641d6abf",
   "metadata": {},
   "outputs": [],
   "source": [
    "seqs = []\n",
    "for i in range(1,16):\n",
    "    seqs.append(pd.read_csv(os.path.join(root, filepattern + str(i).zfill(2) +'.csv')))\n",
    "    "
   ]
  },
  {
   "cell_type": "code",
   "execution_count": 19,
   "id": "0bfecc80",
   "metadata": {},
   "outputs": [
    {
     "data": {
      "text/plain": [
       "[200, 200, 200, 200, 200, 200, 200, 200, 200, 200, 200, 200, 200, 200, 200]"
      ]
     },
     "execution_count": 19,
     "metadata": {},
     "output_type": "execute_result"
    }
   ],
   "source": [
    "[seq.iti_TR.sum() for seq in seqs]"
   ]
  },
  {
   "cell_type": "code",
   "execution_count": 28,
   "id": "06e20b37",
   "metadata": {},
   "outputs": [
    {
     "data": {
      "text/plain": [
       "[array([ 4,  6,  3,  7,  5,  8,  9, 10]),\n",
       " array([3, 6, 4, 7, 8, 5]),\n",
       " array([3, 8, 4, 5, 7, 6, 9]),\n",
       " array([ 6,  3,  5, 10,  8,  4,  7,  9]),\n",
       " array([3, 4, 8, 6, 5, 7]),\n",
       " array([7, 6, 4, 3, 8, 5, 9]),\n",
       " array([3, 4, 5, 7, 8, 9, 6]),\n",
       " array([6, 3, 5, 7, 4, 9, 8]),\n",
       " array([3, 4, 6, 5, 8, 9, 7]),\n",
       " array([6, 8, 3, 7, 5, 4, 9]),\n",
       " array([3, 8, 5, 4, 7, 6, 9]),\n",
       " array([ 6,  3,  9,  8,  4,  5,  7, 10]),\n",
       " array([6, 3, 7, 8, 4, 5]),\n",
       " array([ 4,  5,  3,  7,  8,  6, 10,  9]),\n",
       " array([4, 6, 5, 8, 7, 3, 9])]"
      ]
     },
     "execution_count": 28,
     "metadata": {},
     "output_type": "execute_result"
    }
   ],
   "source": [
    "[seq.iti_TR.unique() for seq in seqs]"
   ]
  },
  {
   "cell_type": "code",
   "execution_count": 31,
   "id": "e7804e60",
   "metadata": {},
   "outputs": [
    {
     "data": {
      "text/plain": [
       "[3     13\n",
       " 6      7\n",
       " 4      6\n",
       " 7      4\n",
       " 5      3\n",
       " 8      3\n",
       " 9      2\n",
       " 10     1\n",
       " Name: iti_TR, dtype: int64,\n",
       " 3    12\n",
       " 6     9\n",
       " 4     6\n",
       " 8     6\n",
       " 7     4\n",
       " 5     2\n",
       " Name: iti_TR, dtype: int64,\n",
       " 4    11\n",
       " 3     8\n",
       " 5     6\n",
       " 8     5\n",
       " 7     5\n",
       " 6     3\n",
       " 9     1\n",
       " Name: iti_TR, dtype: int64,\n",
       " 3     11\n",
       " 6      8\n",
       " 4      7\n",
       " 5      5\n",
       " 8      5\n",
       " 10     1\n",
       " 7      1\n",
       " 9      1\n",
       " Name: iti_TR, dtype: int64,\n",
       " 3    12\n",
       " 8     8\n",
       " 6     6\n",
       " 5     6\n",
       " 4     5\n",
       " 7     2\n",
       " Name: iti_TR, dtype: int64,\n",
       " 4    12\n",
       " 3     8\n",
       " 6     7\n",
       " 8     6\n",
       " 5     3\n",
       " 7     2\n",
       " 9     1\n",
       " Name: iti_TR, dtype: int64,\n",
       " 3    10\n",
       " 4    10\n",
       " 8     7\n",
       " 6     6\n",
       " 5     3\n",
       " 7     2\n",
       " 9     1\n",
       " Name: iti_TR, dtype: int64,\n",
       " 3    9\n",
       " 4    9\n",
       " 5    8\n",
       " 7    4\n",
       " 6    3\n",
       " 9    3\n",
       " 8    3\n",
       " Name: iti_TR, dtype: int64,\n",
       " 3    10\n",
       " 6     9\n",
       " 5     8\n",
       " 4     5\n",
       " 8     3\n",
       " 9     2\n",
       " 7     2\n",
       " Name: iti_TR, dtype: int64,\n",
       " 3    14\n",
       " 8     6\n",
       " 4     5\n",
       " 6     4\n",
       " 7     4\n",
       " 5     4\n",
       " 9     2\n",
       " Name: iti_TR, dtype: int64,\n",
       " 3    15\n",
       " 8     9\n",
       " 4     5\n",
       " 5     3\n",
       " 7     3\n",
       " 6     3\n",
       " 9     1\n",
       " Name: iti_TR, dtype: int64,\n",
       " 3     12\n",
       " 4      6\n",
       " 5      6\n",
       " 6      5\n",
       " 7      4\n",
       " 8      3\n",
       " 9      2\n",
       " 10     1\n",
       " Name: iti_TR, dtype: int64,\n",
       " 3    10\n",
       " 6     7\n",
       " 7     6\n",
       " 4     6\n",
       " 5     6\n",
       " 8     4\n",
       " Name: iti_TR, dtype: int64,\n",
       " 4     9\n",
       " 3     9\n",
       " 5     7\n",
       " 6     5\n",
       " 8     4\n",
       " 7     3\n",
       " 10    1\n",
       " 9     1\n",
       " Name: iti_TR, dtype: int64,\n",
       " 4    10\n",
       " 5     9\n",
       " 3     7\n",
       " 7     5\n",
       " 8     4\n",
       " 6     3\n",
       " 9     1\n",
       " Name: iti_TR, dtype: int64]"
      ]
     },
     "execution_count": 31,
     "metadata": {},
     "output_type": "execute_result"
    }
   ],
   "source": [
    "[seq.iti_TR.value_counts() for seq in seqs]"
   ]
  }
 ],
 "metadata": {
  "kernelspec": {
   "display_name": "Python 3 (ipykernel)",
   "language": "python",
   "name": "python3"
  },
  "language_info": {
   "codemirror_mode": {
    "name": "ipython",
    "version": 3
   },
   "file_extension": ".py",
   "mimetype": "text/x-python",
   "name": "python",
   "nbconvert_exporter": "python",
   "pygments_lexer": "ipython3",
   "version": "3.8.11"
  }
 },
 "nbformat": 4,
 "nbformat_minor": 5
}
