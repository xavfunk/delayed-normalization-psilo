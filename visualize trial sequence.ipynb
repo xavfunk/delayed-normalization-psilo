{
 "cells": [
  {
   "cell_type": "code",
   "execution_count": 2,
   "id": "e861535d",
   "metadata": {},
   "outputs": [],
   "source": [
    "import numpy as np\n",
    "import matplotlib.pyplot as plt\n",
    "from ITI_simulations import *"
   ]
  },
  {
   "cell_type": "code",
   "execution_count": 56,
   "id": "942e1f2e",
   "metadata": {},
   "outputs": [
    {
     "data": {
      "text/plain": [
       "array([  0. ,   1.3,   2.6,   3.9,   5.2,   6.5,   7.8,   9.1,  10.4,\n",
       "        11.7,  13. ,  14.3,  15.6,  16.9,  18.2,  19.5,  20.8,  22.1,\n",
       "        23.4,  24.7,  26. ,  27.3,  28.6,  29.9,  31.2,  32.5,  33.8,\n",
       "        35.1,  36.4,  37.7,  39. ,  40.3,  41.6,  42.9,  44.2,  45.5,\n",
       "        46.8,  48.1,  49.4,  50.7,  52. ,  53.3,  54.6,  55.9,  57.2,\n",
       "        58.5,  59.8,  61.1,  62.4,  63.7,  65. ,  66.3,  67.6,  68.9,\n",
       "        70.2,  71.5,  72.8,  74.1,  75.4,  76.7,  78. ,  79.3,  80.6,\n",
       "        81.9,  83.2,  84.5,  85.8,  87.1,  88.4,  89.7,  91. ,  92.3,\n",
       "        93.6,  94.9,  96.2,  97.5,  98.8, 100.1, 101.4, 102.7, 104. ,\n",
       "       105.3, 106.6, 107.9, 109.2, 110.5, 111.8, 113.1, 114.4, 115.7,\n",
       "       117. , 118.3, 119.6, 120.9, 122.2, 123.5, 124.8, 126.1, 127.4,\n",
       "       128.7, 130. , 131.3, 132.6, 133.9, 135.2, 136.5, 137.8, 139.1,\n",
       "       140.4, 141.7, 143. , 144.3, 145.6, 146.9, 148.2, 149.5, 150.8,\n",
       "       152.1, 153.4, 154.7, 156. , 157.3, 158.6, 159.9, 161.2, 162.5,\n",
       "       163.8, 165.1, 166.4, 167.7, 169. , 170.3, 171.6, 172.9, 174.2,\n",
       "       175.5, 176.8, 178.1, 179.4, 180.7, 182. , 183.3, 184.6, 185.9,\n",
       "       187.2, 188.5])"
      ]
     },
     "execution_count": 56,
     "metadata": {},
     "output_type": "execute_result"
    }
   ],
   "source": [
    "hist = make_hist(n_trials = 39)\n",
    "ITI_list = randomize_trials(hist)\n",
    "ITI_timings = np.cumsum([0] + ITI_list[:-1]) \n",
    "exp_length = sum(np.array(ITI_list))\n",
    "\n",
    "#sequence_array\n",
    "#np.linspace(0, exp_length, exp_length)\n",
    "#scanner_trigger = np.array()\n",
    "scanner_triggers = np.array([1.3 * i for i in range(int(191//1.3))])\n",
    "scanner_triggers"
   ]
  },
  {
   "cell_type": "code",
   "execution_count": 54,
   "id": "f60ff27b",
   "metadata": {},
   "outputs": [
    {
     "data": {
      "text/plain": [
       "146.0"
      ]
     },
     "execution_count": 54,
     "metadata": {},
     "output_type": "execute_result"
    }
   ],
   "source": [
    "191//1.3"
   ]
  },
  {
   "cell_type": "code",
   "execution_count": 61,
   "id": "7eb3e502",
   "metadata": {},
   "outputs": [
    {
     "data": {
      "image/png": "[encoded data removed]",
      "text/plain": [
       "<Figure size 900x200 with 2 Axes>"
      ]
     },
     "metadata": {},
     "output_type": "display_data"
    }
   ],
   "source": [
    "fig, axs = plt.subplots(2, figsize = (9, 2))\n",
    "\n",
    "#for iti in ITI_timings[:len(ITI_timings)//2]:\n",
    "#     if iti <len(ITI_timings)//2:\n",
    "#         i = 0\n",
    "#     else:\n",
    "#         i = 1\n",
    "        \n",
    "axs[0].vlines(ITI_timings[:len(ITI_timings)//2], 0, 1, color = 'blue', label = 'P1')\n",
    "axs[0].vlines(ITI_timings[:len(ITI_timings)//2]+.8, 0, 1, color = 'red', label = 'P2')\n",
    "axs[0].vlines(ITI_timings[:len(ITI_timings)//2]-1.3/2, 0, 1, color = 'green', label = 'P0')\n",
    "\n",
    "\n",
    "axs[0].vlines(scanner_triggers[:len(scanner_triggers)//2], 0, 1, color = 'orange', label = 't')\n",
    "\n",
    "\n",
    "axs[1].vlines(ITI_timings[len(ITI_timings)//2:], 0, 1, color = 'blue', label = 'P1')\n",
    "axs[1].vlines(ITI_timings[len(ITI_timings)//2:]+.8, 0, 1, color = 'red', label = 'P2')\n",
    "axs[1].vlines(ITI_timings[len(ITI_timings)//2:]-1.3/2, 0, 1, color = 'green', label = 'P0')\n",
    "axs[1].vlines(scanner_triggers[len(scanner_triggers)//2:], 0, 1, color = 'orange', label = 't')\n",
    "\n",
    "\n",
    "\n",
    "for iti in ITI_timings[len(ITI_timings)//2:]:\n",
    "    axs[1].vlines(iti, 0, 1, color = 'blue')\n",
    "    axs[1].vlines(iti+.8, 0, 1, color = 'red')\n",
    "    axs[1].vlines(iti-1.3/2, 0, 1, color = 'green')\n",
    "\n",
    "#axs[0].set_xticklabels([])\n",
    "axs[0].set_yticklabels([])\n",
    "axs[1].set_yticklabels([])\n",
    "axs[0].legend()\n",
    "plt.tight_layout()\n",
    "plt.show()"
   ]
  },
  {
   "cell_type": "code",
   "execution_count": 49,
   "id": "fae4bcc4",
   "metadata": {},
   "outputs": [
    {
     "data": {
      "text/plain": [
       "<matplotlib.collections.LineCollection at 0x7f915c636f70>"
      ]
     },
     "execution_count": 49,
     "metadata": {},
     "output_type": "execute_result"
    },
    {
     "data": {
      "image/png": "[encoded data removed]",
      "text/plain": [
       "<Figure size 640x480 with 1 Axes>"
      ]
     },
     "metadata": {},
     "output_type": "display_data"
    }
   ],
   "source": [
    "plt.vlines(ITI_timings, 0, 1, color = 'blue', label = 'P1')\n"
   ]
  },
  {
   "cell_type": "code",
   "execution_count": 14,
   "id": "82edfec6",
   "metadata": {},
   "outputs": [
    {
     "data": {
      "text/plain": [
       "array([  0,   7,  12,  16,  20,  26,  31,  36,  40,  44,  49,  53,  57,\n",
       "        62,  67,  71,  75,  79,  83,  89,  97, 102, 107, 111, 115, 119,\n",
       "       123, 130, 134, 138, 143, 147, 151, 157, 162, 166, 172, 178, 187])"
      ]
     },
     "execution_count": 14,
     "metadata": {},
     "output_type": "execute_result"
    }
   ],
   "source": [
    "np.cumsum([0] + sequence_list[:-1]) "
   ]
  },
  {
   "cell_type": "code",
   "execution_count": 13,
   "id": "eb2fd7d4",
   "metadata": {},
   "outputs": [
    {
     "data": {
      "text/plain": [
       "[7,\n",
       " 5,\n",
       " 4,\n",
       " 4,\n",
       " 6,\n",
       " 5,\n",
       " 5,\n",
       " 4,\n",
       " 4,\n",
       " 5,\n",
       " 4,\n",
       " 4,\n",
       " 5,\n",
       " 5,\n",
       " 4,\n",
       " 4,\n",
       " 4,\n",
       " 4,\n",
       " 6,\n",
       " 8,\n",
       " 5,\n",
       " 5,\n",
       " 4,\n",
       " 4,\n",
       " 4,\n",
       " 4,\n",
       " 7,\n",
       " 4,\n",
       " 4,\n",
       " 5,\n",
       " 4,\n",
       " 4,\n",
       " 6,\n",
       " 5,\n",
       " 4,\n",
       " 6,\n",
       " 6,\n",
       " 9,\n",
       " 4]"
      ]
     },
     "execution_count": 13,
     "metadata": {},
     "output_type": "execute_result"
    }
   ],
   "source": [
    "sequence_list"
   ]
  },
  {
   "cell_type": "code",
   "execution_count": 9,
   "id": "9dcd0a23",
   "metadata": {},
   "outputs": [
    {
     "data": {
      "text/plain": [
       "array([8, 4, 5, 4, 5, 5, 4, 4, 6, 5, 5, 4, 4, 4, 4, 5, 4, 4, 5, 4, 4, 6,\n",
       "       6, 4, 9, 4, 4, 7, 4, 4, 5, 4, 7, 5, 4, 6, 5, 4, 6])"
      ]
     },
     "execution_count": 9,
     "metadata": {},
     "output_type": "execute_result"
    }
   ],
   "source": [
    "sequence_array"
   ]
  }
 ],
 "metadata": {
  "kernelspec": {
   "display_name": "Python 3 (ipykernel)",
   "language": "python",
   "name": "python3"
  },
  "language_info": {
   "codemirror_mode": {
    "name": "ipython",
    "version": 3
   },
   "file_extension": ".py",
   "mimetype": "text/x-python",
   "name": "python",
   "nbconvert_exporter": "python",
   "pygments_lexer": "ipython3",
   "version": "3.9.13"
  }
 },
 "nbformat": 4,
 "nbformat_minor": 5
}
