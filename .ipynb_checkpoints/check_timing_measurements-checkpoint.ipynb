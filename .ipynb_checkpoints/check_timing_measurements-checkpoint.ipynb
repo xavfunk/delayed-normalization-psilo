{
 "cells": [
  {
   "cell_type": "code",
   "execution_count": 1,
   "id": "d0342b8a",
   "metadata": {},
   "outputs": [],
   "source": [
    "import pandas as pd\n",
    "import seaborn as sns\n",
    "import matplotlib.pyplot as plt\n",
    "import numpy as np"
   ]
  },
  {
   "cell_type": "code",
   "execution_count": 2,
   "id": "0af9a18e",
   "metadata": {},
   "outputs": [
    {
     "data": {
      "text/html": [
       "<div>\n",
       "<style scoped>\n",
       "    .dataframe tbody tr th:only-of-type {\n",
       "        vertical-align: middle;\n",
       "    }\n",
       "\n",
       "    .dataframe tbody tr th {\n",
       "        vertical-align: top;\n",
       "    }\n",
       "\n",
       "    .dataframe thead th {\n",
       "        text-align: right;\n",
       "    }\n",
       "</style>\n",
       "<table border=\"1\" class=\"dataframe\">\n",
       "  <thead>\n",
       "    <tr style=\"text-align: right;\">\n",
       "      <th></th>\n",
       "      <th>conditions</th>\n",
       "      <th>frames</th>\n",
       "      <th>duration</th>\n",
       "      <th>delta_peaks</th>\n",
       "      <th>n_peaks_found</th>\n",
       "    </tr>\n",
       "  </thead>\n",
       "  <tbody>\n",
       "    <tr>\n",
       "      <th>0</th>\n",
       "      <td>2</td>\n",
       "      <td>96</td>\n",
       "      <td>0.790703</td>\n",
       "      <td>0.016372</td>\n",
       "      <td>2</td>\n",
       "    </tr>\n",
       "    <tr>\n",
       "      <th>1</th>\n",
       "      <td>2</td>\n",
       "      <td>96</td>\n",
       "      <td>0.790703</td>\n",
       "      <td>0.016395</td>\n",
       "      <td>2</td>\n",
       "    </tr>\n",
       "    <tr>\n",
       "      <th>2</th>\n",
       "      <td>2</td>\n",
       "      <td>96</td>\n",
       "      <td>0.790703</td>\n",
       "      <td>0.016395</td>\n",
       "      <td>2</td>\n",
       "    </tr>\n",
       "    <tr>\n",
       "      <th>3</th>\n",
       "      <td>2</td>\n",
       "      <td>96</td>\n",
       "      <td>0.790703</td>\n",
       "      <td>0.016395</td>\n",
       "      <td>2</td>\n",
       "    </tr>\n",
       "    <tr>\n",
       "      <th>4</th>\n",
       "      <td>2</td>\n",
       "      <td>96</td>\n",
       "      <td>0.790703</td>\n",
       "      <td>0.016372</td>\n",
       "      <td>2</td>\n",
       "    </tr>\n",
       "  </tbody>\n",
       "</table>\n",
       "</div>"
      ],
      "text/plain": [
       "   conditions  frames  duration  delta_peaks  n_peaks_found\n",
       "0           2      96  0.790703     0.016372              2\n",
       "1           2      96  0.790703     0.016395              2\n",
       "2           2      96  0.790703     0.016395              2\n",
       "3           2      96  0.790703     0.016395              2\n",
       "4           2      96  0.790703     0.016372              2"
      ]
     },
     "execution_count": 2,
     "metadata": {},
     "output_type": "execute_result"
    }
   ],
   "source": [
    "data = pd.read_csv('photodiode_test_results/timing_test_results_50_dur.csv')\n",
    "data.head()"
   ]
  },
  {
   "cell_type": "code",
   "execution_count": 3,
   "id": "8021eb68",
   "metadata": {},
   "outputs": [
    {
     "name": "stderr",
     "output_type": "stream",
     "text": [
      "/home/xavfunk/anaconda3/lib/python3.9/site-packages/seaborn/_oldcore.py:1498: FutureWarning: is_categorical_dtype is deprecated and will be removed in a future version. Use isinstance(dtype, CategoricalDtype) instead\n",
      "  if pd.api.types.is_categorical_dtype(vector):\n",
      "/home/xavfunk/anaconda3/lib/python3.9/site-packages/seaborn/_oldcore.py:1498: FutureWarning: is_categorical_dtype is deprecated and will be removed in a future version. Use isinstance(dtype, CategoricalDtype) instead\n",
      "  if pd.api.types.is_categorical_dtype(vector):\n",
      "/home/xavfunk/anaconda3/lib/python3.9/site-packages/seaborn/_oldcore.py:1498: FutureWarning: is_categorical_dtype is deprecated and will be removed in a future version. Use isinstance(dtype, CategoricalDtype) instead\n",
      "  if pd.api.types.is_categorical_dtype(vector):\n"
     ]
    },
    {
     "data": {
      "text/plain": [
       "<Axes: xlabel='conditions', ylabel='delta_peaks'>"
      ]
     },
     "execution_count": 3,
     "metadata": {},
     "output_type": "execute_result"
    },
    {
     "data": {
      "image/png": "[encoded data removed]",
      "text/plain": [
       "<Figure size 640x480 with 1 Axes>"
      ]
     },
     "metadata": {},
     "output_type": "display_data"
    }
   ],
   "source": [
    "sns.boxplot(data = data, x = 'conditions', y = 'delta_peaks')"
   ]
  },
  {
   "cell_type": "code",
   "execution_count": 4,
   "id": "2a4d35ed",
   "metadata": {},
   "outputs": [
    {
     "data": {
      "text/plain": [
       "<matplotlib.collections.LineCollection at 0x7ff608363490>"
      ]
     },
     "execution_count": 4,
     "metadata": {},
     "output_type": "execute_result"
    },
    {
     "data": {
      "image/png": "[encoded data removed]",
      "text/plain": [
       "<Figure size 640x480 with 1 Axes>"
      ]
     },
     "metadata": {},
     "output_type": "display_data"
    }
   ],
   "source": [
    "plt.vlines(np.arange(len(data.delta_peaks)),np.zeros(len(data)), data.delta_peaks)"
   ]
  },
  {
   "cell_type": "code",
   "execution_count": 6,
   "id": "f200f09b",
   "metadata": {},
   "outputs": [
    {
     "name": "stderr",
     "output_type": "stream",
     "text": [
      "/home/xavfunk/anaconda3/lib/python3.9/site-packages/seaborn/_oldcore.py:1498: FutureWarning: is_categorical_dtype is deprecated and will be removed in a future version. Use isinstance(dtype, CategoricalDtype) instead\n",
      "  if pd.api.types.is_categorical_dtype(vector):\n",
      "/home/xavfunk/anaconda3/lib/python3.9/site-packages/seaborn/_oldcore.py:1498: FutureWarning: is_categorical_dtype is deprecated and will be removed in a future version. Use isinstance(dtype, CategoricalDtype) instead\n",
      "  if pd.api.types.is_categorical_dtype(vector):\n",
      "/home/xavfunk/anaconda3/lib/python3.9/site-packages/seaborn/_oldcore.py:1498: FutureWarning: is_categorical_dtype is deprecated and will be removed in a future version. Use isinstance(dtype, CategoricalDtype) instead\n",
      "  if pd.api.types.is_categorical_dtype(vector):\n"
     ]
    },
    {
     "data": {
      "text/plain": [
       "(-1.0, 6.0)"
      ]
     },
     "execution_count": 6,
     "metadata": {},
     "output_type": "execute_result"
    },
    {
     "data": {
      "image/png": "[encoded data removed]",
      "text/plain": [
       "<Figure size 640x480 with 1 Axes>"
      ]
     },
     "metadata": {},
     "output_type": "display_data"
    }
   ],
   "source": [
    "data = pd.read_csv('photodiode_test_results/timing_test_results_50_dur_psychophys.csv')\n",
    "# in second space\n",
    "sns.boxplot(data = data, x = 'conditions', y = 'delta_peaks')\n",
    "plt.hlines([.017, .033, .067, .134, .267, .533], -1, 6, alpha = .25)\n",
    "plt.xlim(-1, 6)"
   ]
  },
  {
   "cell_type": "code",
   "execution_count": 7,
   "id": "9f0af1c6",
   "metadata": {},
   "outputs": [
    {
     "name": "stderr",
     "output_type": "stream",
     "text": [
      "/home/xavfunk/anaconda3/lib/python3.9/site-packages/seaborn/_oldcore.py:1498: FutureWarning: is_categorical_dtype is deprecated and will be removed in a future version. Use isinstance(dtype, CategoricalDtype) instead\n",
      "  if pd.api.types.is_categorical_dtype(vector):\n",
      "/home/xavfunk/anaconda3/lib/python3.9/site-packages/seaborn/_oldcore.py:1498: FutureWarning: is_categorical_dtype is deprecated and will be removed in a future version. Use isinstance(dtype, CategoricalDtype) instead\n",
      "  if pd.api.types.is_categorical_dtype(vector):\n",
      "/home/xavfunk/anaconda3/lib/python3.9/site-packages/seaborn/_oldcore.py:1498: FutureWarning: is_categorical_dtype is deprecated and will be removed in a future version. Use isinstance(dtype, CategoricalDtype) instead\n",
      "  if pd.api.types.is_categorical_dtype(vector):\n"
     ]
    },
    {
     "data": {
      "text/plain": [
       "(-1.0, 6.0)"
      ]
     },
     "execution_count": 7,
     "metadata": {},
     "output_type": "execute_result"
    },
    {
     "data": {
      "image/png": "[encoded data removed]",
      "text/plain": [
       "<Figure size 640x480 with 1 Axes>"
      ]
     },
     "metadata": {},
     "output_type": "display_data"
    }
   ],
   "source": [
    "data = pd.read_csv('photodiode_test_results/timing_test_results_50_dur_psychophys.csv')\n",
    "# in frame space\n",
    "sns.boxplot(data = data, x = 'conditions', y = data.delta_peaks*120)\n",
    "plt.hlines([2, 4, 8, 16, 32, 64], -1, 6, alpha = .25)\n",
    "plt.xlim(-1, 6)"
   ]
  },
  {
   "cell_type": "code",
   "execution_count": 74,
   "id": "caaa06dc",
   "metadata": {},
   "outputs": [
    {
     "name": "stdout",
     "output_type": "stream",
     "text": [
      "delta_peaks\n",
      "0.015351    28\n",
      "0.015329    22\n",
      "Name: count, dtype: int64\n",
      "delta_peaks\n",
      "0.033129    45\n",
      "0.033107     5\n",
      "Name: count, dtype: int64\n",
      "delta_peaks\n",
      "0.066667    38\n",
      "0.066644    12\n",
      "Name: count, dtype: int64\n",
      "delta_peaks\n",
      "0.133333    39\n",
      "0.133311    10\n",
      "0.133356     1\n",
      "Name: count, dtype: int64\n",
      "delta_peaks\n",
      "0.266667    38\n",
      "0.266644    12\n",
      "Name: count, dtype: int64\n",
      "delta_peaks\n",
      "0.533333    29\n",
      "0.533311    21\n",
      "Name: count, dtype: int64\n"
     ]
    }
   ],
   "source": [
    "for condition in [2, 4, 8, 16, 32, 64]:\n",
    "    print(data[data.conditions == condition].delta_peaks.value_counts())"
   ]
  },
  {
   "cell_type": "code",
   "execution_count": 75,
   "id": "df1d0e8d",
   "metadata": {},
   "outputs": [
    {
     "name": "stdout",
     "output_type": "stream",
     "text": [
      "1.269841269838437e-05\n",
      "2.0408163265261958e-05\n",
      "1.7233560090659794e-05\n",
      "2.675736961457731e-05\n",
      "1.7233560090645916e-05\n",
      "1.3151927437560218e-05\n"
     ]
    }
   ],
   "source": [
    "for condition in [2, 4, 8, 16, 32, 64]:\n",
    "    mean = data[data.conditions == condition].delta_peaks.mean()\n",
    "    std = data[data.conditions == condition].delta_peaks.std()\n",
    "    largest_diff = max(data[data.conditions == condition].delta_peaks.max()-mean, mean - data[data.conditions == condition].delta_peaks.min())\n",
    "#     print(largest_diff/(1/120))\n",
    "#     print(f'For n frames {condition}: mean delta peak (s) {mean:.4f}, std {std}, largest deviation from mean {largest_diff}')\n",
    "    print(largest_diff)"
   ]
  },
  {
   "cell_type": "code",
   "execution_count": 90,
   "id": "e263d0a7",
   "metadata": {},
   "outputs": [
    {
     "data": {
      "text/plain": [
       "n_peaks_found\n",
       "2    100\n",
       "Name: count, dtype: int64"
      ]
     },
     "execution_count": 90,
     "metadata": {},
     "output_type": "execute_result"
    }
   ],
   "source": [
    "data = pd.read_csv('photodiode_test_results/timing_photo_exp_results.csv')\n",
    "# len(data)/304\n",
    "\n",
    "# 'oversampled' accidentally by 304, as results were stored on every frame of phase 2 \n",
    "data=data[::304] \n",
    "# len(data)\n",
    "\n",
    "data.n_peaks_found.value_counts()"
   ]
  },
  {
   "cell_type": "code",
   "execution_count": 91,
   "id": "7eeec4b0",
   "metadata": {},
   "outputs": [
    {
     "name": "stdout",
     "output_type": "stream",
     "text": [
      "delta_peaks\n",
      "0.015873    14\n",
      "0.015850     3\n",
      "Name: count, dtype: int64\n",
      "delta_peaks\n",
      "0.033220    13\n",
      "0.033243     4\n",
      "Name: count, dtype: int64\n",
      "delta_peaks\n",
      "0.066667    13\n",
      "0.066644     4\n",
      "Name: count, dtype: int64\n",
      "delta_peaks\n",
      "0.133333    12\n",
      "0.133311     5\n",
      "Name: count, dtype: int64\n",
      "delta_peaks\n",
      "0.266667    12\n",
      "0.266644     4\n",
      "Name: count, dtype: int64\n",
      "delta_peaks\n",
      "0.533311    9\n",
      "0.533333    7\n",
      "Name: count, dtype: int64\n"
     ]
    }
   ],
   "source": [
    "for condition in [2, 4, 8, 16, 32, 64]:\n",
    "    print(data[data.conditions == condition].delta_peaks.value_counts())"
   ]
  },
  {
   "cell_type": "code",
   "execution_count": 92,
   "id": "b1c882ec",
   "metadata": {},
   "outputs": [
    {
     "name": "stderr",
     "output_type": "stream",
     "text": [
      "/home/xavfunk/anaconda3/lib/python3.9/site-packages/seaborn/_oldcore.py:1498: FutureWarning: is_categorical_dtype is deprecated and will be removed in a future version. Use isinstance(dtype, CategoricalDtype) instead\n",
      "  if pd.api.types.is_categorical_dtype(vector):\n",
      "/home/xavfunk/anaconda3/lib/python3.9/site-packages/seaborn/_oldcore.py:1498: FutureWarning: is_categorical_dtype is deprecated and will be removed in a future version. Use isinstance(dtype, CategoricalDtype) instead\n",
      "  if pd.api.types.is_categorical_dtype(vector):\n",
      "/home/xavfunk/anaconda3/lib/python3.9/site-packages/seaborn/_oldcore.py:1498: FutureWarning: is_categorical_dtype is deprecated and will be removed in a future version. Use isinstance(dtype, CategoricalDtype) instead\n",
      "  if pd.api.types.is_categorical_dtype(vector):\n"
     ]
    },
    {
     "data": {
      "text/plain": [
       "(-1.0, 6.0)"
      ]
     },
     "execution_count": 92,
     "metadata": {},
     "output_type": "execute_result"
    },
    {
     "data": {
      "image/png": "[encoded data removed]",
      "text/plain": [
       "<Figure size 640x480 with 1 Axes>"
      ]
     },
     "metadata": {},
     "output_type": "display_data"
    }
   ],
   "source": [
    "sns.boxplot(data = data, x = 'conditions', y = data.delta_peaks*120)\n",
    "plt.hlines([2, 4, 8, 16, 32, 64], -1, 6, alpha = .25)\n",
    "plt.xlim(-1, 6)"
   ]
  }
 ],
 "metadata": {
  "kernelspec": {
   "display_name": "Python 3 (ipykernel)",
   "language": "python",
   "name": "python3"
  },
  "language_info": {
   "codemirror_mode": {
    "name": "ipython",
    "version": 3
   },
   "file_extension": ".py",
   "mimetype": "text/x-python",
   "name": "python",
   "nbconvert_exporter": "python",
   "pygments_lexer": "ipython3",
   "version": "3.9.13"
  }
 },
 "nbformat": 4,
 "nbformat_minor": 5
}
