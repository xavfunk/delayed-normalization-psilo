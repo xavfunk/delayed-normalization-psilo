{
 "cells": [
  {
   "cell_type": "code",
   "execution_count": 14,
   "id": "d4b05e6b",
   "metadata": {},
   "outputs": [],
   "source": [
    "import numpy as np\n",
    "import matplotlib.pyplot as plt"
   ]
  },
  {
   "cell_type": "markdown",
   "id": "edcad5ec",
   "metadata": {},
   "source": [
    "## Linear model"
   ]
  },
  {
   "cell_type": "code",
   "execution_count": 61,
   "id": "671ffa90",
   "metadata": {},
   "outputs": [],
   "source": [
    "\"\"\"TODO fix\"\"\"\n",
    "\n",
    "def IRF(t, tau):\n",
    "    \"\"\"\n",
    "    computes neuronal impulse response function with \"Gamma shape\"\n",
    "    \n",
    "    parameters\n",
    "    t: np.array\n",
    "        time\n",
    "    tau: float\n",
    "        some constant\n",
    "    \"\"\"\n",
    "    #return np.convolve(t, np.exp(-t/tau), mode = 'same')\n",
    "    return t * np.exp(-t/tau)\n",
    "    \n",
    "\n",
    "def R_lin(t, tau, g, T_inp):\n",
    "    \n",
    "    \"\"\"\n",
    "    computes the linear response to a stimulus for\n",
    "    \n",
    "    parameters\n",
    "    t : np.array\n",
    "        time\n",
    "    tau : float\n",
    "        some constant for IRF\n",
    "    g : float\n",
    "        gain factor\n",
    "    T_inp : np.array\n",
    "        stimunlus time course\n",
    "    \"\"\"\n",
    "    \n",
    "    return g* np.convolve(IRF(t, tau), T_inp, mode = 'full')\n",
    "#     return g* np.convolve(IRF(t, tau), T_inp, mode = 'same')\n",
    "\n",
    "\n",
    "def BOLD_lin(g):\n",
    "    \"\"\"\n",
    "    sums the predicted time course over a trial\n",
    "    \"\"\"\n",
    "    \n",
    "    \n",
    "    return \n",
    "\n"
   ]
  },
  {
   "cell_type": "code",
   "execution_count": 62,
   "id": "8f433e96",
   "metadata": {},
   "outputs": [
    {
     "data": {
      "text/plain": [
       "[<matplotlib.lines.Line2D at 0x7f4bb61dab80>]"
      ]
     },
     "execution_count": 62,
     "metadata": {},
     "output_type": "execute_result"
    },
    {
     "data": {
      "image/png": "[encoded data removed]",
      "text/plain": [
       "<Figure size 640x480 with 1 Axes>"
      ]
     },
     "metadata": {},
     "output_type": "display_data"
    }
   ],
   "source": [
    "t = np.linspace(0,1)\n",
    "T_inp = np.hstack((np.ones(25), np.zeros(25)))\n",
    "\n",
    "tau = 0.05\n",
    "\n",
    "plt.plot(t, IRF(t, tau))\n",
    "plt.plot(t, T_inp)\n",
    "plt.plot(t, R_lin(t, tau, 1, T_inp)[::2]) # ?? conv still unclear\n",
    "#plt.plot(t, R_lin(t, tau, 1, T_inp)) # ?? conv still unclear"
   ]
  },
  {
   "cell_type": "code",
   "execution_count": 19,
   "id": "1f4444f0",
   "metadata": {},
   "outputs": [
    {
     "data": {
      "text/plain": [
       "99"
      ]
     },
     "execution_count": 19,
     "metadata": {},
     "output_type": "execute_result"
    }
   ],
   "source": [
    "len(IRF(t, tau))"
   ]
  },
  {
   "cell_type": "markdown",
   "id": "497f060f",
   "metadata": {},
   "source": [
    "## CTS model"
   ]
  },
  {
   "cell_type": "code",
   "execution_count": null,
   "id": "2cdc9159",
   "metadata": {},
   "outputs": [],
   "source": []
  }
 ],
 "metadata": {
  "kernelspec": {
   "display_name": "Python 3 (ipykernel)",
   "language": "python",
   "name": "python3"
  },
  "language_info": {
   "codemirror_mode": {
    "name": "ipython",
    "version": 3
   },
   "file_extension": ".py",
   "mimetype": "text/x-python",
   "name": "python",
   "nbconvert_exporter": "python",
   "pygments_lexer": "ipython3",
   "version": "3.9.13"
  }
 },
 "nbformat": 4,
 "nbformat_minor": 5
}
