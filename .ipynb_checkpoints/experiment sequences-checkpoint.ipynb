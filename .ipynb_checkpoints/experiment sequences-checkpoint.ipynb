{
 "cells": [
  {
   "cell_type": "markdown",
   "id": "eb001407",
   "metadata": {},
   "source": [
    "- [ ] implement ITIs properly (either with the help of optseq2 or simply from a histogram between 4 and 12 of an exponential distribution)\n",
    "\t- [ ] 3 levels: exact distribution, noise level, randomization of trials\n",
    "\t- [x] get a hist\n",
    "\t- [x] randomize\n",
    "\t- [ ] convolve linearly scaled signal response amplitudes with HRF\n",
    "\t\t- [x] long one: two-gamma with back to baseline after 20s\n",
    "\t- [ ] deconvolve or GLM it\n",
    "\t- [ ] can I recover the different response amplitudes in beta-weights?\n",
    "\t- [ ] noise could be a specific autocrrelated noise, ie Riemann noise with scipy"
   ]
  },
  {
   "cell_type": "code",
   "execution_count": 13,
   "id": "ac0a96dc",
   "metadata": {},
   "outputs": [],
   "source": [
    "import numpy as np\n",
    "import matplotlib.pyplot as plt\n",
    "import random\n",
    "from scipy.special import gamma\n"
   ]
  },
  {
   "cell_type": "code",
   "execution_count": 2,
   "id": "1fdc0a56",
   "metadata": {},
   "outputs": [
    {
     "data": {
      "text/plain": [
       "(array([0, 2, 1]), array([0, 1, 2, 3]))"
      ]
     },
     "execution_count": 2,
     "metadata": {},
     "output_type": "execute_result"
    }
   ],
   "source": [
    "# in numpy, histograms are tuples of values/bins\n",
    "np.histogram([1, 2, 1], bins=[0, 1, 2, 3])"
   ]
  },
  {
   "cell_type": "code",
   "execution_count": 3,
   "id": "4bf8d16a",
   "metadata": {},
   "outputs": [],
   "source": [
    "# Tomas' basic exponential histogram over ITI values 1-20\n",
    "basic_hist = (np.array([20, 10, 5, 2, 1, 1, 0, 0, 0]), np.array([4, 5, 6, 7, 8, 9, 10, 11, 12]))"
   ]
  },
  {
   "cell_type": "code",
   "execution_count": 4,
   "id": "3bb41b25",
   "metadata": {},
   "outputs": [
    {
     "data": {
      "text/plain": [
       "<BarContainer object of 9 artists>"
      ]
     },
     "execution_count": 4,
     "metadata": {},
     "output_type": "execute_result"
    },
    {
     "data": {
      "image/png": "[encoded data removed]",
      "text/plain": [
       "<Figure size 640x480 with 1 Axes>"
      ]
     },
     "metadata": {},
     "output_type": "display_data"
    }
   ],
   "source": [
    "plt.bar(basic_hist[1],basic_hist[0])"
   ]
  },
  {
   "cell_type": "code",
   "execution_count": 138,
   "id": "769afdf9",
   "metadata": {},
   "outputs": [],
   "source": [
    "# trials is a mapping between trial types and the corresponding amplitude scaling factor \n",
    "trials = {\"dur_0\" : 0,\n",
    "         \"dur_17\" : 1,\n",
    "         \"dur_33\" : 2,\n",
    "         \"dur_67\" : 3,\n",
    "         \"dur_134\" : 4,\n",
    "         \"dur_267-isi_0\" : 5,\n",
    "         \"dur_533\" : 6,\n",
    "         \"isi_17\" : 5,\n",
    "         \"isi_33\" : 5.1,\n",
    "         \"isi_67\" : 5.3,\n",
    "         \"isi_134\" : 5.5,\n",
    "         \"isi_267\" : 5.8,\n",
    "         \"isi_533\" : 6}\n",
    "\n",
    "def make_hist(n_trials = 39):\n",
    "    \"\"\"\n",
    "    takes the basic histogram and potentially shifts things around a bit\n",
    "    \n",
    "    TODO implement the actual shifting around\n",
    "    \"\"\"\n",
    "    \n",
    "    basic_hist = (np.array([20, 10, 5, 2, 1, 1, 0, 0, 0]), np.array([4, 5, 6, 7, 8, 9, 10, 11, 12]))\n",
    "    \n",
    "    hist = basic_hist\n",
    "    \n",
    "    return hist\n",
    "\n",
    "def randomize_trials(hist_tup):\n",
    "    \"\"\"\n",
    "    takes an ITI distribution tuple of (n_ITIs, bins [seconds])\n",
    "    returns a randomized trial sequence\n",
    "    \"\"\"\n",
    "    # first, make a sequence list\n",
    "    sequence_list = [[tup[1]]*tup[0] for tup in list(zip(hist_tup[0], hist_tup[1]))]\n",
    "    sequence_list = [val for sublist in sequence_list for val in sublist]\n",
    "\n",
    "    random.shuffle(sequence_list) # shuffle inplace\n",
    "        \n",
    "    return sequence_list\n",
    "\n",
    "def unfold_upsample(sequence_list, upsample_factor = 10):\n",
    "    \"\"\"\n",
    "    takes a sequence list and then unfolds and upsamples it by some factor\n",
    "    \"\"\"\n",
    "    # unfold\n",
    "    seq_array = np.zeros(sum(sequence_list))\n",
    "    \n",
    "    # cumsum gives basically the end indeces of the trials, we drop the last and add a 0 in front \n",
    "    idxs = np.cumsum([0] + sequence_list)[:-1] # cumsum gives basically the end times of the trials, we drop the last and add a 0 in front \n",
    "    seq_array[idxs] = 1\n",
    "    \n",
    "    # upsample\n",
    "    seq_array = np.repeat(seq_array, upsample_factor)\n",
    "    for i, element in enumerate(seq_array):\n",
    "        if element == 1: # detect a one\n",
    "\n",
    "            for k in range(1,upsample_factor): # set the following k to 0\n",
    "                #print(k)\n",
    "                seq_array[i+k] = 0\n",
    "    \n",
    "    return seq_array\n",
    "\n",
    "    \n",
    "def scale_amplitudes(seq_array, trials = trials, n_repeats = 3):\n",
    "    \"\"\"\n",
    "    takes a trial sequence and scales the signal amplitudes according to some experimental design \n",
    "    trials is a dict with the different trial types and their amplitudes\n",
    "    \n",
    "    returns appropriately scaled trials and dict specifying when each trial event happened\n",
    "    \"\"\"\n",
    "    event_types = {}\n",
    "    design = list(trials.keys()) * n_repeats # 3 repeats\n",
    "    random.shuffle(design)\n",
    "    \n",
    "    j = 0 # index for design\n",
    "    out_array = np.zeros_like(seq_array)\n",
    "#     print(seq_array, trials)\n",
    "    # match repeats with 1's\n",
    "    for i, event in enumerate(seq_array):\n",
    "        if event == 1:  # check if event occured\n",
    "#             print(f\"at index {i}, found value {event}, putting value {event} * {trials[design[j]]}, since this is {design[j]}\")\n",
    "            # multiply with trial amplitude\n",
    "            out_array[i] = event * trials[design[j]]\n",
    "            # save i:event\n",
    "            event_types[i] = design[j]\n",
    "            # increase counter\n",
    "            j += 1\n",
    "            \n",
    "    return out_array, event_types\n",
    "\n",
    "def plot_trial_sequence(scaled_events, events_dict):\n",
    "    # Create a list of indices where the value is 1\n",
    "    events_indices = list(events_dict.keys())\n",
    "\n",
    "    # Plotting the vertical lines at the indices where the value is 1\n",
    "    fig, ax = plt.subplots()\n",
    "    for i in events_indices:\n",
    "        ax.vlines(i, ymin=0, ymax=scaled_events[i], colors='r', linestyles='solid', label='Vertical Lines (1s)')\n",
    "    ax.set_xticks(events_indices)\n",
    "    ax.set_xticklabels(list(events_dict.values()), rotation = 90, size = 8)\n",
    "    \n",
    "    return fig, ax\n",
    "\n",
    "\n",
    "def canHRF(t, a1=6, a2=1, a3=16, a4=1, alpha=1/6):\n",
    "    \"\"\"\n",
    "    makes a canonical two-gamma HRF according to \n",
    "    \n",
    "    $$\n",
    "    h(t) = \\frac{t^{a_1−1}e^{-a_2t}}{\\Gamma(a_1)} - \\alpha \\frac{t^{a_3−1}e^{-a_4t}}{\\Gamma(a_3)},\n",
    "    $$\n",
    "    \n",
    "    t is the input time\n",
    "    a1, a2, a3, a4 are shape params\n",
    "    alpha controls the ratio of response to undershoot\n",
    "    \n",
    "    some plausible parameters are: alpha = 1/6, a1 = 6, \n",
    "    a3 = 16 and a2 = a4 = 1, see defaults, \n",
    "    which give a nice hrf returning to baseline after 25s\n",
    "    \"\"\"\n",
    "    \n",
    "    hrf = (t**(a1-1) * np.exp(-a2*t))/gamma(a1) - alpha * (t**(a3-1) * np.exp(-a4*t))/gamma(a3)\n",
    "    return hrf\n",
    "\n",
    "\n",
    "def convolve_HRF(trials_scaled, upsample_factor, **kwargs):\n",
    "    \"\"\"\n",
    "    takes a (scaled) trial sequence and convolved it with a twogamma hrf \n",
    "    \"\"\"\n",
    "    \n",
    "    t = np.linspace(0, 191, 191 * upsample_factor)\n",
    "    hrf = canHRF(t)\n",
    "    trials_scaled_convolved = np.convolve(hrf, trials_scaled, mode='full')\n",
    "\n",
    "    return trials_scaled_convolved\n"
   ]
  },
  {
   "cell_type": "code",
   "execution_count": 7,
   "id": "08c3d4b3",
   "metadata": {},
   "outputs": [
    {
     "data": {
      "text/plain": [
       "(1910,)"
      ]
     },
     "execution_count": 7,
     "metadata": {},
     "output_type": "execute_result"
    }
   ],
   "source": [
    "t = np.linspace(0, 191, 191 * 10)\n",
    "t.shape"
   ]
  },
  {
   "cell_type": "code",
   "execution_count": 139,
   "id": "de686c1f",
   "metadata": {},
   "outputs": [
    {
     "name": "stdout",
     "output_type": "stream",
     "text": [
      "at index 0, found value 1.0, putting value 1.0 * 2, since this is dur_33\n",
      "at index 8, found value 1.0, putting value 1.0 * 3, since this is dur_67\n",
      "at index 15, found value 1.0, putting value 1.0 * 1, since this is dur_17\n",
      "at index 22, found value 1.0, putting value 1.0 * 5.1, since this is isi_33\n",
      "at index 32, found value 1.0, putting value 1.0 * 1, since this is dur_17\n",
      "at index 38, found value 1.0, putting value 1.0 * 3, since this is dur_67\n",
      "at index 45, found value 1.0, putting value 1.0 * 6, since this is dur_533\n",
      "at index 51, found value 1.0, putting value 1.0 * 5.5, since this is isi_134\n",
      "at index 57, found value 1.0, putting value 1.0 * 5, since this is isi_17\n",
      "at index 63, found value 1.0, putting value 1.0 * 6, since this is dur_533\n",
      "at index 70, found value 1.0, putting value 1.0 * 5.3, since this is isi_67\n",
      "at index 78, found value 1.0, putting value 1.0 * 5.3, since this is isi_67\n",
      "at index 85, found value 1.0, putting value 1.0 * 1, since this is dur_17\n",
      "at index 91, found value 1.0, putting value 1.0 * 5, since this is dur_267-isi_0\n",
      "at index 99, found value 1.0, putting value 1.0 * 2, since this is dur_33\n",
      "at index 105, found value 1.0, putting value 1.0 * 5.8, since this is isi_267\n",
      "at index 113, found value 1.0, putting value 1.0 * 4, since this is dur_134\n",
      "at index 122, found value 1.0, putting value 1.0 * 4, since this is dur_134\n",
      "at index 129, found value 1.0, putting value 1.0 * 4, since this is dur_134\n",
      "at index 135, found value 1.0, putting value 1.0 * 5.3, since this is isi_67\n",
      "at index 141, found value 1.0, putting value 1.0 * 6, since this is dur_533\n",
      "at index 149, found value 1.0, putting value 1.0 * 0, since this is dur_0\n",
      "at index 155, found value 1.0, putting value 1.0 * 5, since this is dur_267-isi_0\n",
      "at index 161, found value 1.0, putting value 1.0 * 5.1, since this is isi_33\n",
      "at index 167, found value 1.0, putting value 1.0 * 5, since this is isi_17\n",
      "at index 176, found value 1.0, putting value 1.0 * 5.5, since this is isi_134\n",
      "at index 182, found value 1.0, putting value 1.0 * 5.1, since this is isi_33\n",
      "at index 193, found value 1.0, putting value 1.0 * 6, since this is isi_533\n",
      "at index 200, found value 1.0, putting value 1.0 * 0, since this is dur_0\n",
      "at index 206, found value 1.0, putting value 1.0 * 6, since this is isi_533\n",
      "at index 212, found value 1.0, putting value 1.0 * 3, since this is dur_67\n",
      "at index 219, found value 1.0, putting value 1.0 * 5, since this is dur_267-isi_0\n",
      "at index 225, found value 1.0, putting value 1.0 * 2, since this is dur_33\n",
      "at index 231, found value 1.0, putting value 1.0 * 6, since this is isi_533\n",
      "at index 237, found value 1.0, putting value 1.0 * 5, since this is isi_17\n",
      "at index 243, found value 1.0, putting value 1.0 * 5.5, since this is isi_134\n",
      "at index 250, found value 1.0, putting value 1.0 * 5.8, since this is isi_267\n",
      "at index 256, found value 1.0, putting value 1.0 * 5.8, since this is isi_267\n",
      "at index 263, found value 1.0, putting value 1.0 * 0, since this is dur_0\n",
      "at index 0, found value 1.0, putting value 1.0 * 3, since this is dur_67\n",
      "at index 8, found value 1.0, putting value 1.0 * 2, since this is dur_33\n",
      "at index 15, found value 1.0, putting value 1.0 * 6, since this is dur_533\n",
      "at index 22, found value 1.0, putting value 1.0 * 0, since this is dur_0\n",
      "at index 32, found value 1.0, putting value 1.0 * 5.1, since this is isi_33\n",
      "at index 38, found value 1.0, putting value 1.0 * 2, since this is dur_33\n",
      "at index 45, found value 1.0, putting value 1.0 * 2, since this is dur_33\n",
      "at index 51, found value 1.0, putting value 1.0 * 5, since this is dur_267-isi_0\n",
      "at index 57, found value 1.0, putting value 1.0 * 5.8, since this is isi_267\n",
      "at index 63, found value 1.0, putting value 1.0 * 6, since this is dur_533\n",
      "at index 70, found value 1.0, putting value 1.0 * 6, since this is isi_533\n",
      "at index 78, found value 1.0, putting value 1.0 * 5, since this is isi_17\n",
      "at index 85, found value 1.0, putting value 1.0 * 5.5, since this is isi_134\n",
      "at index 91, found value 1.0, putting value 1.0 * 5.3, since this is isi_67\n",
      "at index 99, found value 1.0, putting value 1.0 * 1, since this is dur_17\n",
      "at index 105, found value 1.0, putting value 1.0 * 1, since this is dur_17\n",
      "at index 113, found value 1.0, putting value 1.0 * 5, since this is dur_267-isi_0\n",
      "at index 122, found value 1.0, putting value 1.0 * 5, since this is isi_17\n",
      "at index 129, found value 1.0, putting value 1.0 * 3, since this is dur_67\n",
      "at index 135, found value 1.0, putting value 1.0 * 5.1, since this is isi_33\n",
      "at index 141, found value 1.0, putting value 1.0 * 6, since this is isi_533\n",
      "at index 149, found value 1.0, putting value 1.0 * 6, since this is dur_533\n",
      "at index 155, found value 1.0, putting value 1.0 * 5.8, since this is isi_267\n",
      "at index 161, found value 1.0, putting value 1.0 * 0, since this is dur_0\n",
      "at index 167, found value 1.0, putting value 1.0 * 5.5, since this is isi_134\n",
      "at index 176, found value 1.0, putting value 1.0 * 4, since this is dur_134\n",
      "at index 182, found value 1.0, putting value 1.0 * 5, since this is dur_267-isi_0\n",
      "at index 193, found value 1.0, putting value 1.0 * 4, since this is dur_134\n",
      "at index 200, found value 1.0, putting value 1.0 * 0, since this is dur_0\n",
      "at index 206, found value 1.0, putting value 1.0 * 6, since this is isi_533\n",
      "at index 212, found value 1.0, putting value 1.0 * 5.3, since this is isi_67\n",
      "at index 219, found value 1.0, putting value 1.0 * 5, since this is isi_17\n",
      "at index 225, found value 1.0, putting value 1.0 * 3, since this is dur_67\n",
      "at index 231, found value 1.0, putting value 1.0 * 5.1, since this is isi_33\n",
      "at index 237, found value 1.0, putting value 1.0 * 5.8, since this is isi_267\n",
      "at index 243, found value 1.0, putting value 1.0 * 4, since this is dur_134\n",
      "at index 250, found value 1.0, putting value 1.0 * 5.3, since this is isi_67\n",
      "at index 256, found value 1.0, putting value 1.0 * 5.5, since this is isi_134\n",
      "at index 263, found value 1.0, putting value 1.0 * 1, since this is dur_17\n"
     ]
    },
    {
     "data": {
      "text/plain": [
       "[<matplotlib.lines.Line2D at 0x7fa78175ca60>]"
      ]
     },
     "execution_count": 139,
     "metadata": {},
     "output_type": "execute_result"
    },
    {
     "data": {
      "image/png": "[encoded data removed]",
      "text/plain": [
       "<Figure size 640x480 with 1 Axes>"
      ]
     },
     "metadata": {},
     "output_type": "display_data"
    }
   ],
   "source": [
    "## Testing/putting stuff together\n",
    "# trials is a mapping between trial types and the corresponding amplitude scaling factor \n",
    "trials = {\"dur_0\" : 0,\n",
    "         \"dur_17\" : 1,\n",
    "         \"dur_33\" : 2,\n",
    "         \"dur_67\" : 3,\n",
    "         \"dur_134\" : 4,\n",
    "         \"dur_267-isi_0\" : 5,\n",
    "         \"dur_533\" : 6,\n",
    "         \"isi_17\" : 5,\n",
    "         \"isi_33\" : 5.1,\n",
    "         \"isi_67\" : 5.3,\n",
    "         \"isi_134\" : 5.5,\n",
    "         \"isi_267\" : 5.8,\n",
    "         \"isi_533\" : 6}\n",
    "\n",
    "#trials = {\"isi_67\" : 5.3}\n",
    "\n",
    "hist = make_hist(n_trials = 2)\n",
    "hist = (np.array([20, 10, 5, 2, 1, 1, 0, 0, 0]), np.array([6, 7, 8, 9, 10, 11, 12, 13, 14]))\n",
    "randomized_seq = randomize_trials(hist)\n",
    "upsampled = unfold_upsample(randomized_seq, upsample_factor = 1)\n",
    "scaled, events_dict = scale_amplitudes(upsampled, trials = trials)\n",
    "sc_conv = convolve_HRF(scaled, 1)\n",
    "\n",
    "events_dict\n",
    "fig, ax = plot_trial_sequence(*scale_amplitudes(upsampled, trials = trials))\n",
    "ax.set_xlim(-5, 300)\n",
    "ax.plot(sc_conv)"
   ]
  },
  {
   "cell_type": "code",
   "execution_count": 143,
   "id": "8970d007",
   "metadata": {},
   "outputs": [
    {
     "data": {
      "text/plain": [
       "array([2. , 0. , 0. , 0. , 0. , 0. , 0. , 0. , 3. , 0. , 0. , 0. , 0. ,\n",
       "       0. , 0. , 1. , 0. , 0. , 0. , 0. , 0. , 0. , 5.1, 0. , 0. , 0. ,\n",
       "       0. , 0. , 0. , 0. , 0. , 0. , 1. , 0. , 0. , 0. , 0. , 0. , 3. ,\n",
       "       0. , 0. , 0. , 0. , 0. , 0. , 6. , 0. , 0. , 0. , 0. , 0. , 5.5,\n",
       "       0. , 0. , 0. , 0. , 0. , 5. , 0. , 0. , 0. , 0. , 0. , 6. , 0. ,\n",
       "       0. , 0. , 0. , 0. , 0. , 5.3, 0. , 0. , 0. , 0. , 0. , 0. , 0. ,\n",
       "       5.3, 0. , 0. , 0. , 0. , 0. , 0. , 1. , 0. , 0. , 0. , 0. , 0. ,\n",
       "       5. , 0. , 0. , 0. , 0. , 0. , 0. , 0. , 2. , 0. , 0. , 0. , 0. ,\n",
       "       0. , 5.8, 0. , 0. , 0. , 0. , 0. , 0. , 0. , 4. , 0. , 0. , 0. ,\n",
       "       0. , 0. , 0. , 0. , 0. , 4. , 0. , 0. , 0. , 0. , 0. , 0. , 4. ,\n",
       "       0. , 0. , 0. , 0. , 0. , 5.3, 0. , 0. , 0. , 0. , 0. , 6. , 0. ,\n",
       "       0. , 0. , 0. , 0. , 0. , 0. , 0. , 0. , 0. , 0. , 0. , 0. , 5. ,\n",
       "       0. , 0. , 0. , 0. , 0. , 5.1, 0. , 0. , 0. , 0. , 0. , 5. , 0. ,\n",
       "       0. , 0. , 0. , 0. , 0. , 0. , 0. , 5.5, 0. , 0. , 0. , 0. , 0. ,\n",
       "       5.1, 0. , 0. , 0. , 0. , 0. , 0. , 0. , 0. , 0. , 0. , 6. , 0. ,\n",
       "       0. , 0. , 0. , 0. , 0. , 0. , 0. , 0. , 0. , 0. , 0. , 6. , 0. ,\n",
       "       0. , 0. , 0. , 0. , 3. , 0. , 0. , 0. , 0. , 0. , 0. , 5. , 0. ,\n",
       "       0. , 0. , 0. , 0. , 2. , 0. , 0. , 0. , 0. , 0. , 6. , 0. , 0. ,\n",
       "       0. , 0. , 0. , 5. , 0. , 0. , 0. , 0. , 0. , 5.5, 0. , 0. , 0. ,\n",
       "       0. , 0. , 0. , 5.8, 0. , 0. , 0. , 0. , 0. , 5.8, 0. , 0. , 0. ,\n",
       "       0. , 0. , 0. , 0. , 0. , 0. , 0. , 0. , 0. ])"
      ]
     },
     "execution_count": 143,
     "metadata": {},
     "output_type": "execute_result"
    }
   ],
   "source": [
    "scaled"
   ]
  },
  {
   "cell_type": "code",
   "execution_count": 126,
   "id": "587c000e",
   "metadata": {},
   "outputs": [
    {
     "data": {
      "text/plain": [
       "[(0, 'dur_267-isi_0'),\n",
       " (6, 'dur_67'),\n",
       " (14, 'isi_134'),\n",
       " (21, 'dur_0'),\n",
       " (27, 'isi_33'),\n",
       " (36, 'dur_533'),\n",
       " (42, 'isi_533'),\n",
       " (49, 'isi_267'),\n",
       " (55, 'dur_0'),\n",
       " (63, 'isi_17'),\n",
       " (69, 'dur_33'),\n",
       " (75, 'isi_17'),\n",
       " (82, 'isi_67'),\n",
       " (92, 'dur_17'),\n",
       " (98, 'dur_33'),\n",
       " (109, 'isi_533'),\n",
       " (117, 'dur_267-isi_0'),\n",
       " (124, 'dur_134'),\n",
       " (132, 'isi_267'),\n",
       " (139, 'isi_17'),\n",
       " (145, 'dur_67'),\n",
       " (151, 'dur_134'),\n",
       " (157, 'isi_33'),\n",
       " (164, 'dur_33'),\n",
       " (170, 'dur_17'),\n",
       " (176, 'dur_17'),\n",
       " (185, 'dur_67'),\n",
       " (191, 'dur_134'),\n",
       " (197, 'dur_267-isi_0'),\n",
       " (204, 'dur_533'),\n",
       " (210, 'isi_67'),\n",
       " (216, 'isi_533'),\n",
       " (224, 'isi_67'),\n",
       " (230, 'isi_134'),\n",
       " (236, 'isi_33'),\n",
       " (243, 'dur_0'),\n",
       " (250, 'isi_267'),\n",
       " (257, 'isi_134'),\n",
       " (263, 'dur_533')]"
      ]
     },
     "execution_count": 126,
     "metadata": {},
     "output_type": "execute_result"
    }
   ],
   "source": [
    "events_indices = list(events_dict.items())\n",
    "events_indices"
   ]
  },
  {
   "cell_type": "code",
   "execution_count": 128,
   "id": "ac5c94f5",
   "metadata": {},
   "outputs": [
    {
     "data": {
      "text/plain": [
       "array([1., 0., 0., 0., 0., 0., 1., 0., 0., 0., 0., 0., 0., 0., 1., 0., 0.,\n",
       "       0., 0., 0., 0., 1., 0., 0., 0., 0., 0., 1., 0., 0., 0., 0., 0., 0.,\n",
       "       0., 0., 1., 0., 0., 0., 0., 0., 1., 0., 0., 0., 0., 0., 0., 1., 0.,\n",
       "       0., 0., 0., 0., 1., 0., 0., 0., 0., 0., 0., 0., 1., 0., 0., 0., 0.,\n",
       "       0., 1., 0., 0., 0., 0., 0., 1., 0., 0., 0., 0., 0., 0., 1., 0., 0.,\n",
       "       0., 0., 0., 0., 0., 0., 0., 1., 0., 0., 0., 0., 0., 1., 0., 0., 0.,\n",
       "       0., 0., 0., 0., 0., 0., 0., 1., 0., 0., 0., 0., 0., 0., 0., 1., 0.,\n",
       "       0., 0., 0., 0., 0., 1., 0., 0., 0., 0., 0., 0., 0., 1., 0., 0., 0.,\n",
       "       0., 0., 0., 1., 0., 0., 0., 0., 0., 1., 0., 0., 0., 0., 0., 1., 0.,\n",
       "       0., 0., 0., 0., 1., 0., 0., 0., 0., 0., 0., 1., 0., 0., 0., 0., 0.,\n",
       "       1., 0., 0., 0., 0., 0., 1., 0., 0., 0., 0., 0., 0., 0., 0., 1., 0.,\n",
       "       0., 0., 0., 0., 1., 0., 0., 0., 0., 0., 1., 0., 0., 0., 0., 0., 0.,\n",
       "       1., 0., 0., 0., 0., 0., 1., 0., 0., 0., 0., 0., 1., 0., 0., 0., 0.,\n",
       "       0., 0., 0., 1., 0., 0., 0., 0., 0., 1., 0., 0., 0., 0., 0., 1., 0.,\n",
       "       0., 0., 0., 0., 0., 1., 0., 0., 0., 0., 0., 0., 1., 0., 0., 0., 0.,\n",
       "       0., 0., 1., 0., 0., 0., 0., 0., 1., 0., 0., 0., 0., 0.])"
      ]
     },
     "execution_count": 128,
     "metadata": {},
     "output_type": "execute_result"
    }
   ],
   "source": [
    "upsampled[55]\n",
    "upsampled"
   ]
  },
  {
   "cell_type": "code",
   "execution_count": 130,
   "id": "62bcf7a7",
   "metadata": {},
   "outputs": [
    {
     "data": {
      "text/plain": [
       "array([5. , 0. , 0. , 0. , 0. , 0. , 3. , 0. , 0. , 0. , 0. , 0. , 0. ,\n",
       "       0. , 5.5, 0. , 0. , 0. , 0. , 0. , 0. , 0. , 0. , 0. , 0. , 0. ,\n",
       "       0. , 5.1, 0. , 0. , 0. , 0. , 0. , 0. , 0. , 0. , 6. , 0. , 0. ,\n",
       "       0. , 0. , 0. , 6. , 0. , 0. , 0. , 0. , 0. , 0. , 5.8, 0. , 0. ,\n",
       "       0. , 0. , 0. , 0. , 0. , 0. , 0. , 0. , 0. , 0. , 0. , 5. , 0. ,\n",
       "       0. , 0. , 0. , 0. , 2. , 0. , 0. , 0. , 0. , 0. , 5. , 0. , 0. ,\n",
       "       0. , 0. , 0. , 0. , 5.3, 0. , 0. , 0. , 0. , 0. , 0. , 0. , 0. ,\n",
       "       0. , 1. , 0. , 0. , 0. , 0. , 0. , 2. , 0. , 0. , 0. , 0. , 0. ,\n",
       "       0. , 0. , 0. , 0. , 0. , 6. , 0. , 0. , 0. , 0. , 0. , 0. , 0. ,\n",
       "       5. , 0. , 0. , 0. , 0. , 0. , 0. , 4. , 0. , 0. , 0. , 0. , 0. ,\n",
       "       0. , 0. , 5.8, 0. , 0. , 0. , 0. , 0. , 0. , 5. , 0. , 0. , 0. ,\n",
       "       0. , 0. , 3. , 0. , 0. , 0. , 0. , 0. , 4. , 0. , 0. , 0. , 0. ,\n",
       "       0. , 5.1, 0. , 0. , 0. , 0. , 0. , 0. , 2. , 0. , 0. , 0. , 0. ,\n",
       "       0. , 1. , 0. , 0. , 0. , 0. , 0. , 1. , 0. , 0. , 0. , 0. , 0. ,\n",
       "       0. , 0. , 0. , 3. , 0. , 0. , 0. , 0. , 0. , 4. , 0. , 0. , 0. ,\n",
       "       0. , 0. , 5. , 0. , 0. , 0. , 0. , 0. , 0. , 6. , 0. , 0. , 0. ,\n",
       "       0. , 0. , 5.3, 0. , 0. , 0. , 0. , 0. , 6. , 0. , 0. , 0. , 0. ,\n",
       "       0. , 0. , 0. , 5.3, 0. , 0. , 0. , 0. , 0. , 5.5, 0. , 0. , 0. ,\n",
       "       0. , 0. , 5.1, 0. , 0. , 0. , 0. , 0. , 0. , 0. , 0. , 0. , 0. ,\n",
       "       0. , 0. , 0. , 5.8, 0. , 0. , 0. , 0. , 0. , 0. , 5.5, 0. , 0. ,\n",
       "       0. , 0. , 0. , 6. , 0. , 0. , 0. , 0. , 0. ])"
      ]
     },
     "execution_count": 130,
     "metadata": {},
     "output_type": "execute_result"
    }
   ],
   "source": [
    "scaled[55]\n",
    "scaled"
   ]
  },
  {
   "cell_type": "code",
   "execution_count": 146,
   "id": "e6d71293",
   "metadata": {},
   "outputs": [
    {
     "ename": "ValueError",
     "evalue": "x and y must have same first dimension, but have shapes (955,) and (269,)",
     "output_type": "error",
     "traceback": [
      "\u001b[0;31m---------------------------------------------------------------------------\u001b[0m",
      "\u001b[0;31mValueError\u001b[0m                                Traceback (most recent call last)",
      "\u001b[0;32m/tmp/ipykernel_212107/2520693151.py\u001b[0m in \u001b[0;36m<cell line: 1>\u001b[0;34m()\u001b[0m\n\u001b[0;32m----> 1\u001b[0;31m \u001b[0mplt\u001b[0m\u001b[0;34m.\u001b[0m\u001b[0mplot\u001b[0m\u001b[0;34m(\u001b[0m\u001b[0mnp\u001b[0m\u001b[0;34m.\u001b[0m\u001b[0mlinspace\u001b[0m\u001b[0;34m(\u001b[0m\u001b[0;36m0\u001b[0m\u001b[0;34m,\u001b[0m \u001b[0;36m191\u001b[0m\u001b[0;34m,\u001b[0m \u001b[0;36m191\u001b[0m\u001b[0;34m*\u001b[0m\u001b[0;36m5\u001b[0m\u001b[0;34m)\u001b[0m\u001b[0;34m,\u001b[0m \u001b[0mscaled\u001b[0m\u001b[0;34m)\u001b[0m\u001b[0;34m\u001b[0m\u001b[0;34m\u001b[0m\u001b[0m\n\u001b[0m\u001b[1;32m      2\u001b[0m \u001b[0mplt\u001b[0m\u001b[0;34m.\u001b[0m\u001b[0mplot\u001b[0m\u001b[0;34m(\u001b[0m\u001b[0mnp\u001b[0m\u001b[0;34m.\u001b[0m\u001b[0mlinspace\u001b[0m\u001b[0;34m(\u001b[0m\u001b[0;36m0\u001b[0m\u001b[0;34m,\u001b[0m \u001b[0;36m191\u001b[0m\u001b[0;34m,\u001b[0m \u001b[0;36m191\u001b[0m\u001b[0;34m*\u001b[0m\u001b[0;36m5\u001b[0m\u001b[0;34m)\u001b[0m\u001b[0;34m,\u001b[0m \u001b[0mcanHRF\u001b[0m\u001b[0;34m(\u001b[0m\u001b[0mnp\u001b[0m\u001b[0;34m.\u001b[0m\u001b[0mlinspace\u001b[0m\u001b[0;34m(\u001b[0m\u001b[0;36m0\u001b[0m\u001b[0;34m,\u001b[0m \u001b[0;36m191\u001b[0m\u001b[0;34m,\u001b[0m \u001b[0;36m191\u001b[0m\u001b[0;34m*\u001b[0m\u001b[0;36m5\u001b[0m\u001b[0;34m)\u001b[0m\u001b[0;34m)\u001b[0m\u001b[0;34m)\u001b[0m\u001b[0;34m\u001b[0m\u001b[0;34m\u001b[0m\u001b[0m\n\u001b[1;32m      3\u001b[0m \u001b[0;31m# plt.plot(np.linspace(0, 191, 191*5), convolve_HRF(scaled, 5))\u001b[0m\u001b[0;34m\u001b[0m\u001b[0;34m\u001b[0m\u001b[0m\n\u001b[1;32m      4\u001b[0m \u001b[0mplt\u001b[0m\u001b[0;34m.\u001b[0m\u001b[0mplot\u001b[0m\u001b[0;34m(\u001b[0m\u001b[0mnp\u001b[0m\u001b[0;34m.\u001b[0m\u001b[0mlinspace\u001b[0m\u001b[0;34m(\u001b[0m\u001b[0;36m0\u001b[0m\u001b[0;34m,\u001b[0m \u001b[0;36m191\u001b[0m\u001b[0;34m,\u001b[0m \u001b[0;36m191\u001b[0m\u001b[0;34m*\u001b[0m\u001b[0;36m5\u001b[0m\u001b[0;34m)\u001b[0m\u001b[0;34m,\u001b[0m \u001b[0mconvolve_HRF\u001b[0m\u001b[0;34m(\u001b[0m\u001b[0mscaled\u001b[0m\u001b[0;34m,\u001b[0m \u001b[0;36m5\u001b[0m\u001b[0;34m)\u001b[0m\u001b[0;34m[\u001b[0m\u001b[0;34m:\u001b[0m\u001b[0;36m191\u001b[0m\u001b[0;34m*\u001b[0m\u001b[0;36m5\u001b[0m\u001b[0;34m]\u001b[0m\u001b[0;34m)\u001b[0m\u001b[0;34m\u001b[0m\u001b[0;34m\u001b[0m\u001b[0m\n\u001b[1;32m      5\u001b[0m \u001b[0;31m# plt.plot(convolve_HRF(scaled, 5))\u001b[0m\u001b[0;34m\u001b[0m\u001b[0;34m\u001b[0m\u001b[0m\n",
      "\u001b[0;32m~/anaconda3/lib/python3.9/site-packages/matplotlib/pyplot.py\u001b[0m in \u001b[0;36mplot\u001b[0;34m(scalex, scaley, data, *args, **kwargs)\u001b[0m\n\u001b[1;32m   2810\u001b[0m \u001b[0;34m@\u001b[0m\u001b[0m_copy_docstring_and_deprecators\u001b[0m\u001b[0;34m(\u001b[0m\u001b[0mAxes\u001b[0m\u001b[0;34m.\u001b[0m\u001b[0mplot\u001b[0m\u001b[0;34m)\u001b[0m\u001b[0;34m\u001b[0m\u001b[0;34m\u001b[0m\u001b[0m\n\u001b[1;32m   2811\u001b[0m \u001b[0;32mdef\u001b[0m \u001b[0mplot\u001b[0m\u001b[0;34m(\u001b[0m\u001b[0;34m*\u001b[0m\u001b[0margs\u001b[0m\u001b[0;34m,\u001b[0m \u001b[0mscalex\u001b[0m\u001b[0;34m=\u001b[0m\u001b[0;32mTrue\u001b[0m\u001b[0;34m,\u001b[0m \u001b[0mscaley\u001b[0m\u001b[0;34m=\u001b[0m\u001b[0;32mTrue\u001b[0m\u001b[0;34m,\u001b[0m \u001b[0mdata\u001b[0m\u001b[0;34m=\u001b[0m\u001b[0;32mNone\u001b[0m\u001b[0;34m,\u001b[0m \u001b[0;34m**\u001b[0m\u001b[0mkwargs\u001b[0m\u001b[0;34m)\u001b[0m\u001b[0;34m:\u001b[0m\u001b[0;34m\u001b[0m\u001b[0;34m\u001b[0m\u001b[0m\n\u001b[0;32m-> 2812\u001b[0;31m     return gca().plot(\n\u001b[0m\u001b[1;32m   2813\u001b[0m         \u001b[0;34m*\u001b[0m\u001b[0margs\u001b[0m\u001b[0;34m,\u001b[0m \u001b[0mscalex\u001b[0m\u001b[0;34m=\u001b[0m\u001b[0mscalex\u001b[0m\u001b[0;34m,\u001b[0m \u001b[0mscaley\u001b[0m\u001b[0;34m=\u001b[0m\u001b[0mscaley\u001b[0m\u001b[0;34m,\u001b[0m\u001b[0;34m\u001b[0m\u001b[0;34m\u001b[0m\u001b[0m\n\u001b[1;32m   2814\u001b[0m         **({\"data\": data} if data is not None else {}), **kwargs)\n",
      "\u001b[0;32m~/anaconda3/lib/python3.9/site-packages/matplotlib/axes/_axes.py\u001b[0m in \u001b[0;36mplot\u001b[0;34m(self, scalex, scaley, data, *args, **kwargs)\u001b[0m\n\u001b[1;32m   1686\u001b[0m         \"\"\"\n\u001b[1;32m   1687\u001b[0m         \u001b[0mkwargs\u001b[0m \u001b[0;34m=\u001b[0m \u001b[0mcbook\u001b[0m\u001b[0;34m.\u001b[0m\u001b[0mnormalize_kwargs\u001b[0m\u001b[0;34m(\u001b[0m\u001b[0mkwargs\u001b[0m\u001b[0;34m,\u001b[0m \u001b[0mmlines\u001b[0m\u001b[0;34m.\u001b[0m\u001b[0mLine2D\u001b[0m\u001b[0;34m)\u001b[0m\u001b[0;34m\u001b[0m\u001b[0;34m\u001b[0m\u001b[0m\n\u001b[0;32m-> 1688\u001b[0;31m         \u001b[0mlines\u001b[0m \u001b[0;34m=\u001b[0m \u001b[0;34m[\u001b[0m\u001b[0;34m*\u001b[0m\u001b[0mself\u001b[0m\u001b[0;34m.\u001b[0m\u001b[0m_get_lines\u001b[0m\u001b[0;34m(\u001b[0m\u001b[0;34m*\u001b[0m\u001b[0margs\u001b[0m\u001b[0;34m,\u001b[0m \u001b[0mdata\u001b[0m\u001b[0;34m=\u001b[0m\u001b[0mdata\u001b[0m\u001b[0;34m,\u001b[0m \u001b[0;34m**\u001b[0m\u001b[0mkwargs\u001b[0m\u001b[0;34m)\u001b[0m\u001b[0;34m]\u001b[0m\u001b[0;34m\u001b[0m\u001b[0;34m\u001b[0m\u001b[0m\n\u001b[0m\u001b[1;32m   1689\u001b[0m         \u001b[0;32mfor\u001b[0m \u001b[0mline\u001b[0m \u001b[0;32min\u001b[0m \u001b[0mlines\u001b[0m\u001b[0;34m:\u001b[0m\u001b[0;34m\u001b[0m\u001b[0;34m\u001b[0m\u001b[0m\n\u001b[1;32m   1690\u001b[0m             \u001b[0mself\u001b[0m\u001b[0;34m.\u001b[0m\u001b[0madd_line\u001b[0m\u001b[0;34m(\u001b[0m\u001b[0mline\u001b[0m\u001b[0;34m)\u001b[0m\u001b[0;34m\u001b[0m\u001b[0;34m\u001b[0m\u001b[0m\n",
      "\u001b[0;32m~/anaconda3/lib/python3.9/site-packages/matplotlib/axes/_base.py\u001b[0m in \u001b[0;36m__call__\u001b[0;34m(self, data, *args, **kwargs)\u001b[0m\n\u001b[1;32m    309\u001b[0m                 \u001b[0mthis\u001b[0m \u001b[0;34m+=\u001b[0m \u001b[0margs\u001b[0m\u001b[0;34m[\u001b[0m\u001b[0;36m0\u001b[0m\u001b[0;34m]\u001b[0m\u001b[0;34m,\u001b[0m\u001b[0;34m\u001b[0m\u001b[0;34m\u001b[0m\u001b[0m\n\u001b[1;32m    310\u001b[0m                 \u001b[0margs\u001b[0m \u001b[0;34m=\u001b[0m \u001b[0margs\u001b[0m\u001b[0;34m[\u001b[0m\u001b[0;36m1\u001b[0m\u001b[0;34m:\u001b[0m\u001b[0;34m]\u001b[0m\u001b[0;34m\u001b[0m\u001b[0;34m\u001b[0m\u001b[0m\n\u001b[0;32m--> 311\u001b[0;31m             yield from self._plot_args(\n\u001b[0m\u001b[1;32m    312\u001b[0m                 this, kwargs, ambiguous_fmt_datakey=ambiguous_fmt_datakey)\n\u001b[1;32m    313\u001b[0m \u001b[0;34m\u001b[0m\u001b[0m\n",
      "\u001b[0;32m~/anaconda3/lib/python3.9/site-packages/matplotlib/axes/_base.py\u001b[0m in \u001b[0;36m_plot_args\u001b[0;34m(self, tup, kwargs, return_kwargs, ambiguous_fmt_datakey)\u001b[0m\n\u001b[1;32m    502\u001b[0m \u001b[0;34m\u001b[0m\u001b[0m\n\u001b[1;32m    503\u001b[0m         \u001b[0;32mif\u001b[0m \u001b[0mx\u001b[0m\u001b[0;34m.\u001b[0m\u001b[0mshape\u001b[0m\u001b[0;34m[\u001b[0m\u001b[0;36m0\u001b[0m\u001b[0;34m]\u001b[0m \u001b[0;34m!=\u001b[0m \u001b[0my\u001b[0m\u001b[0;34m.\u001b[0m\u001b[0mshape\u001b[0m\u001b[0;34m[\u001b[0m\u001b[0;36m0\u001b[0m\u001b[0;34m]\u001b[0m\u001b[0;34m:\u001b[0m\u001b[0;34m\u001b[0m\u001b[0;34m\u001b[0m\u001b[0m\n\u001b[0;32m--> 504\u001b[0;31m             raise ValueError(f\"x and y must have same first dimension, but \"\n\u001b[0m\u001b[1;32m    505\u001b[0m                              f\"have shapes {x.shape} and {y.shape}\")\n\u001b[1;32m    506\u001b[0m         \u001b[0;32mif\u001b[0m \u001b[0mx\u001b[0m\u001b[0;34m.\u001b[0m\u001b[0mndim\u001b[0m \u001b[0;34m>\u001b[0m \u001b[0;36m2\u001b[0m \u001b[0;32mor\u001b[0m \u001b[0my\u001b[0m\u001b[0;34m.\u001b[0m\u001b[0mndim\u001b[0m \u001b[0;34m>\u001b[0m \u001b[0;36m2\u001b[0m\u001b[0;34m:\u001b[0m\u001b[0;34m\u001b[0m\u001b[0;34m\u001b[0m\u001b[0m\n",
      "\u001b[0;31mValueError\u001b[0m: x and y must have same first dimension, but have shapes (955,) and (269,)"
     ]
    },
    {
     "data": {
      "image/png": "[encoded data removed]",
      "text/plain": [
       "<Figure size 640x480 with 1 Axes>"
      ]
     },
     "metadata": {},
     "output_type": "display_data"
    }
   ],
   "source": [
    "plt.plot(np.linspace(0, 191, 191*5), scaled)\n",
    "plt.plot(np.linspace(0, 191, 191*5), canHRF(np.linspace(0, 191, 191*5)))\n",
    "# plt.plot(np.linspace(0, 191, 191*5), convolve_HRF(scaled, 5))\n",
    "plt.plot(np.linspace(0, 191, 191*5), convolve_HRF(scaled, 5)[:191*5])\n",
    "# plt.plot(convolve_HRF(scaled, 5))\n",
    "plt.xlim(-1,125)"
   ]
  },
  {
   "cell_type": "code",
   "execution_count": 113,
   "id": "4d789117",
   "metadata": {},
   "outputs": [
    {
     "data": {
      "text/plain": [
       "array([4. , 0. , 0. , 0. , 0. , 0. , 0. , 0. , 0. , 0. , 0. , 0. , 0. ,\n",
       "       0. , 0. , 0. , 0. , 0. , 0. , 0. , 5.5, 0. , 0. , 0. , 0. , 0. ,\n",
       "       0. , 0. , 0. , 0. , 0. , 0. , 0. , 0. , 0. , 0. , 0. , 0. , 0. ,\n",
       "       0. , 0. , 0. , 0. , 0. , 0. , 4. , 0. , 0. , 0. , 0. , 0. , 0. ,\n",
       "       0. , 0. , 0. , 0. , 0. , 0. , 0. , 0. , 0. , 0. , 0. , 0. , 0. ,\n",
       "       0. , 0. , 0. , 0. , 0. , 5.1, 0. , 0. , 0. , 0. , 0. , 0. , 0. ,\n",
       "       0. , 0. , 0. , 0. , 0. , 0. , 0. , 0. , 0. , 0. , 0. , 0. , 0. ,\n",
       "       0. , 0. , 0. , 0. , 0. , 0. , 0. , 0. , 0. , 0. , 0. , 0. , 0. ,\n",
       "       0. , 0. , 0. , 0. , 0. , 0. , 0. , 0. , 0. , 0. , 0. , 0. , 0. ,\n",
       "       0. , 0. , 0. , 6. , 0. , 0. , 0. , 0. , 0. , 0. , 0. , 0. , 0. ,\n",
       "       0. , 0. , 0. , 0. , 0. , 0. , 0. , 0. , 0. , 0. , 5.3, 0. , 0. ,\n",
       "       0. , 0. , 0. , 0. , 0. , 0. , 0. , 0. , 0. , 0. , 0. , 0. , 0. ,\n",
       "       0. , 0. , 0. , 0. , 0. , 0. , 0. , 0. , 0. , 5.8, 0. , 0. , 0. ,\n",
       "       0. , 0. , 0. , 0. , 0. , 0. , 0. , 0. , 0. , 0. , 0. , 0. , 0. ,\n",
       "       0. , 0. , 0. , 0. , 0. , 0. , 0. , 0. , 0. , 0. , 0. , 0. , 0. ,\n",
       "       0. , 0. , 0. , 0. , 0. , 5. , 0. , 0. , 0. , 0. , 0. , 0. , 0. ,\n",
       "       0. , 0. , 0. , 0. , 0. , 0. , 0. , 0. , 0. , 0. , 0. , 0. , 6. ,\n",
       "       0. , 0. , 0. , 0. , 0. , 0. , 0. , 0. , 0. , 0. , 0. , 0. , 0. ,\n",
       "       0. , 0. , 0. , 0. , 0. , 0. , 1. , 0. , 0. , 0. , 0. , 0. , 0. ,\n",
       "       0. , 0. , 0. , 0. , 0. , 0. , 0. , 0. , 0. , 0. , 0. , 0. , 0. ,\n",
       "       0. , 0. , 0. , 0. , 0. , 0. , 0. , 0. , 0. , 0. , 0. , 0. , 0. ,\n",
       "       0. , 0. , 0. , 0. , 0. , 0. , 0. , 0. , 0. , 0. , 0. , 0. , 3. ,\n",
       "       0. , 0. , 0. , 0. , 0. , 0. , 0. , 0. , 0. , 0. , 0. , 0. , 0. ,\n",
       "       0. , 0. , 0. , 0. , 0. , 0. , 0. , 0. , 0. , 0. , 0. , 0. , 0. ,\n",
       "       0. , 0. , 0. , 1. , 0. , 0. , 0. , 0. , 0. , 0. , 0. , 0. , 0. ,\n",
       "       0. , 0. , 0. , 0. , 0. , 0. , 0. , 0. , 0. , 0. , 6. , 0. , 0. ,\n",
       "       0. , 0. , 0. , 0. , 0. , 0. , 0. , 0. , 0. , 0. , 0. , 0. , 0. ,\n",
       "       0. , 0. , 0. , 0. , 3. , 0. , 0. , 0. , 0. , 0. , 0. , 0. , 0. ,\n",
       "       0. , 0. , 0. , 0. , 0. , 0. , 0. , 0. , 0. , 0. , 0. , 0. , 0. ,\n",
       "       0. , 0. , 0. , 5.3, 0. , 0. , 0. , 0. , 0. , 0. , 0. , 0. , 0. ,\n",
       "       0. , 0. , 0. , 0. , 0. , 0. , 0. , 0. , 0. , 0. , 5. , 0. , 0. ,\n",
       "       0. , 0. , 0. , 0. , 0. , 0. , 0. , 0. , 0. , 0. , 0. , 0. , 0. ,\n",
       "       0. , 0. , 0. , 0. , 2. , 0. , 0. , 0. , 0. , 0. , 0. , 0. , 0. ,\n",
       "       0. , 0. , 0. , 0. , 0. , 0. , 0. , 0. , 0. , 0. , 0. , 0. , 0. ,\n",
       "       0. , 0. , 0. , 5.8, 0. , 0. , 0. , 0. , 0. , 0. , 0. , 0. , 0. ,\n",
       "       0. , 0. , 0. , 0. , 0. , 0. , 0. , 0. , 0. , 0. , 4. , 0. , 0. ,\n",
       "       0. , 0. , 0. , 0. , 0. , 0. , 0. , 0. , 0. , 0. , 0. , 0. , 0. ,\n",
       "       0. , 0. , 0. , 0. , 5. , 0. , 0. , 0. , 0. , 0. , 0. , 0. , 0. ,\n",
       "       0. , 0. , 0. , 0. , 0. , 0. , 0. , 0. , 0. , 0. , 0. , 0. , 0. ,\n",
       "       0. , 0. , 0. , 5. , 0. , 0. , 0. , 0. , 0. , 0. , 0. , 0. , 0. ,\n",
       "       0. , 0. , 0. , 0. , 0. , 0. , 0. , 0. , 0. , 0. , 0. , 0. , 0. ,\n",
       "       0. , 0. , 0. , 0. , 0. , 0. , 0. , 0. , 0. , 0. , 0. , 0. , 0. ,\n",
       "       0. , 0. , 0. , 0. , 5.5, 0. , 0. , 0. , 0. , 0. , 0. , 0. , 0. ,\n",
       "       0. , 0. , 0. , 0. , 0. , 0. , 0. , 0. , 0. , 0. , 0. , 2. , 0. ,\n",
       "       0. , 0. , 0. , 0. , 0. , 0. , 0. , 0. , 0. , 0. , 0. , 0. , 0. ,\n",
       "       0. , 0. , 0. , 0. , 0. , 0. , 0. , 0. , 0. , 0. , 0. , 0. , 0. ,\n",
       "       0. , 0. , 5.3, 0. , 0. , 0. , 0. , 0. , 0. , 0. , 0. , 0. , 0. ,\n",
       "       0. , 0. , 0. , 0. , 0. , 0. , 0. , 0. , 0. , 5. , 0. , 0. , 0. ,\n",
       "       0. , 0. , 0. , 0. , 0. , 0. , 0. , 0. , 0. , 0. , 0. , 0. , 0. ,\n",
       "       0. , 0. , 0. , 0. , 0. , 0. , 0. , 0. , 6. , 0. , 0. , 0. , 0. ,\n",
       "       0. , 0. , 0. , 0. , 0. , 0. , 0. , 0. , 0. , 0. , 0. , 0. , 0. ,\n",
       "       0. , 0. , 0. , 0. , 0. , 0. , 0. , 5.1, 0. , 0. , 0. , 0. , 0. ,\n",
       "       0. , 0. , 0. , 0. , 0. , 0. , 0. , 0. , 0. , 0. , 0. , 0. , 0. ,\n",
       "       0. , 3. , 0. , 0. , 0. , 0. , 0. , 0. , 0. , 0. , 0. , 0. , 0. ,\n",
       "       0. , 0. , 0. , 0. , 0. , 0. , 0. , 0. , 6. , 0. , 0. , 0. , 0. ,\n",
       "       0. , 0. , 0. , 0. , 0. , 0. , 0. , 0. , 0. , 0. , 0. , 0. , 0. ,\n",
       "       0. , 0. , 0. , 0. , 0. , 0. , 0. , 0. , 0. , 0. , 0. , 0. , 0. ,\n",
       "       0. , 0. , 0. , 0. , 0. , 0. , 0. , 0. , 0. , 0. , 0. , 0. , 0. ,\n",
       "       0. , 5.5, 0. , 0. , 0. , 0. , 0. , 0. , 0. , 0. , 0. , 0. , 0. ,\n",
       "       0. , 0. , 0. , 0. , 0. , 0. , 0. , 0. , 1. , 0. , 0. , 0. , 0. ,\n",
       "       0. , 0. , 0. , 0. , 0. , 0. , 0. , 0. , 0. , 0. , 0. , 0. , 0. ,\n",
       "       0. , 0. , 5.1, 0. , 0. , 0. , 0. , 0. , 0. , 0. , 0. , 0. , 0. ,\n",
       "       0. , 0. , 0. , 0. , 0. , 0. , 0. , 0. , 0. , 0. , 0. , 0. , 0. ,\n",
       "       0. , 6. , 0. , 0. , 0. , 0. , 0. , 0. , 0. , 0. , 0. , 0. , 0. ,\n",
       "       0. , 0. , 0. , 0. , 0. , 0. , 0. , 0. , 2. , 0. , 0. , 0. , 0. ,\n",
       "       0. , 0. , 0. , 0. , 0. , 0. , 0. , 0. , 0. , 0. , 0. , 0. , 0. ,\n",
       "       0. , 0. , 0. , 0. , 0. , 0. , 0. , 0. , 0. , 0. , 0. , 0. , 0. ,\n",
       "       0. , 0. , 0. , 0. , 5.8, 0. , 0. , 0. , 0. , 0. , 0. , 0. , 0. ,\n",
       "       0. , 0. , 0. , 0. , 0. , 0. , 0. , 0. , 0. , 0. , 0. , 0. , 0. ,\n",
       "       0. , 0. , 0. , 0. , 0. , 0. , 0. , 0. , 0. , 0. , 0. , 0. , 0. ,\n",
       "       0. , 0. , 0. , 0. , 0. , 0. , 0. , 0. , 0. , 0. , 0. , 0. , 0. ,\n",
       "       0. , 0. , 0. , 0. , 0. , 0. , 0. , 0. , 0. , 0. , 0. , 0. , 5. ,\n",
       "       0. , 0. , 0. , 0. , 0. , 0. , 0. , 0. , 0. , 0. , 0. , 0. , 0. ,\n",
       "       0. , 0. , 0. , 0. , 0. , 0. ])"
      ]
     },
     "execution_count": 113,
     "metadata": {},
     "output_type": "execute_result"
    }
   ],
   "source": [
    "scaled"
   ]
  },
  {
   "cell_type": "code",
   "execution_count": 56,
   "id": "b9c6e38c",
   "metadata": {},
   "outputs": [
    {
     "data": {
      "text/plain": [
       "955"
      ]
     },
     "execution_count": 56,
     "metadata": {},
     "output_type": "execute_result"
    }
   ],
   "source": [
    "len(scaled)\n",
    "191 *5"
   ]
  },
  {
   "cell_type": "code",
   "execution_count": 23,
   "id": "d835ef04",
   "metadata": {},
   "outputs": [],
   "source": [
    "equi_conv = convolve_HRF(equidistant, 5)\n",
    "\n",
    "len()"
   ]
  },
  {
   "cell_type": "code",
   "execution_count": 89,
   "id": "2228c3f5",
   "metadata": {},
   "outputs": [
    {
     "data": {
      "text/plain": [
       "(25.0, 50.0)"
      ]
     },
     "execution_count": 89,
     "metadata": {},
     "output_type": "execute_result"
    },
    {
     "data": {
      "image/png": "[encoded data removed]",
      "text/plain": [
       "<Figure size 640x480 with 1 Axes>"
      ]
     },
     "metadata": {},
     "output_type": "display_data"
    }
   ],
   "source": [
    "equidistant = np.zeros(100)\n",
    "equidistant[25] = 1\n",
    "equidistant[50] = 1\n",
    "equidistant[75] = 1\n",
    "\n",
    "def convolve_HRF(trials_scaled, upsample_factor, **kwargs):\n",
    "    \"\"\"\n",
    "    takes a (scaled) trial sequence and convolved it with a twogamma hrf \n",
    "    \"\"\"\n",
    "    \n",
    "    t = np.linspace(0, 191, 191 * upsample_factor)\n",
    "#     print(t)\n",
    "    hrf = canHRF(t)\n",
    "    trials_scaled_convolved = np.convolve(hrf, trials_scaled, mode='full')\n",
    "\n",
    "    return trials_scaled_convolved\n",
    "\n",
    "\n",
    "equi_conv = convolve_HRF(equidistant, 1)\n",
    "\n",
    "plt.plot(equidistant)\n",
    "plt.plot(equi_conv)\n",
    "plt.xlim(25,50)"
   ]
  },
  {
   "cell_type": "code",
   "execution_count": 115,
   "id": "076d044c",
   "metadata": {},
   "outputs": [
    {
     "data": {
      "text/plain": [
       "[<matplotlib.lines.Line2D at 0x7fa7831a91f0>]"
      ]
     },
     "execution_count": 115,
     "metadata": {},
     "output_type": "execute_result"
    },
    {
     "data": {
      "image/png": "[encoded data removed]",
      "text/plain": [
       "<Figure size 640x480 with 1 Axes>"
      ]
     },
     "metadata": {},
     "output_type": "display_data"
    }
   ],
   "source": [
    "equidistant = np.zeros(100)\n",
    "equidistant[25] = 1\n",
    "equidistant[50] = 1\n",
    "equidistant[75] = 1\n",
    "\n",
    "\n",
    "equidistant[30] = 1\n",
    "equidistant[90] = 1\n",
    "\n",
    "\n",
    "plt.plot(np.linspace(0, 100, 100), equidistant)\n",
    "plt.plot(np.linspace(0, 100, 100), canHRF(np.linspace(0, 100, 100)))\n",
    "# plt.plot(np.linspace(0, 191, 191*5), convolve_HRF(scaled, 5))\n",
    "plt.plot(np.linspace(0, 100, 100), convolve_HRF(equidistant, 1)[:100])\n"
   ]
  },
  {
   "cell_type": "code",
   "execution_count": 18,
   "id": "fb7d4a6f",
   "metadata": {},
   "outputs": [],
   "source": []
  },
  {
   "cell_type": "code",
   "execution_count": 27,
   "id": "d35bf086",
   "metadata": {},
   "outputs": [
    {
     "data": {
      "text/plain": [
       "(array([20, 10,  5,  2,  1,  1,  0,  0,  0]),\n",
       " array([ 4,  5,  6,  7,  8,  9, 10, 11, 12]))"
      ]
     },
     "execution_count": 27,
     "metadata": {},
     "output_type": "execute_result"
    }
   ],
   "source": [
    "hist"
   ]
  },
  {
   "cell_type": "code",
   "execution_count": 20,
   "id": "933d26b9",
   "metadata": {},
   "outputs": [
    {
     "data": {
      "text/plain": [
       "(-95.4, 2003.4)"
      ]
     },
     "execution_count": 20,
     "metadata": {},
     "output_type": "execute_result"
    }
   ],
   "source": [
    "ax.get_xlim()"
   ]
  },
  {
   "cell_type": "code",
   "execution_count": 8,
   "id": "04ca223b",
   "metadata": {},
   "outputs": [],
   "source": [
    "# defining the mapping, eyeballing from Zhou et al 2018\n",
    "\n",
    "## in terms of multiples of the signal\n",
    "{\"dur\" :{0 : 0,\n",
    "        17 : 1,\n",
    "        33 : 2,\n",
    "        67 : 3,\n",
    "        134: 4,\n",
    "        267: 5,\n",
    "        533: 6},\n",
    "\n",
    " \"isi\" : {0 : 5, # == 267\n",
    "        17 : 5.1,\n",
    "        33 : 5.3,\n",
    "        67 : 5.5,\n",
    "        134: 5.7,\n",
    "        267: 5.8,\n",
    "        533: 6}}\n",
    "\n",
    "## in terms of % BOLD change\n",
    "{\"dur\" :{0 : 0,\n",
    "        17 : 1.01,\n",
    "        33 : 1.02,\n",
    "        67 : 1.03,\n",
    "        134: 1.04,\n",
    "        267: 1.05,\n",
    "        533: 1.06},\n",
    "\n",
    " \"isi\" : {0 : 1.05, # == 267\n",
    "        17 : 1.051,\n",
    "        33 : 1.053,\n",
    "        67 : 1.055,\n",
    "        134: 1.057,\n",
    "        267: 1.058,\n",
    "        533: 1.06}}\n",
    "\n",
    "## renaming some\n",
    "trials = {\"dur_0\" : 0,\n",
    " \"dur_17\" : 1,\n",
    " \"dur_33\" : 2,\n",
    " \"dur_67\" : 3,\n",
    " \"dur_134\" : 4,\n",
    " \"dur_267-isi_0\" : 5,\n",
    " \"dur_533\" : 6,\n",
    " \"isi_17\" : 5,\n",
    " \"isi_33\" : 5.1,\n",
    " \"isi_67\" : 5.3,\n",
    " \"isi_134\" : 5.5,\n",
    " \"isi_267\" : 5.8,\n",
    " \"isi_533\" : 6}"
   ]
  },
  {
   "cell_type": "code",
   "execution_count": 9,
   "id": "a1337908",
   "metadata": {},
   "outputs": [
    {
     "data": {
      "text/plain": [
       "[<matplotlib.lines.Line2D at 0x7ff9edb91940>]"
      ]
     },
     "execution_count": 9,
     "metadata": {},
     "output_type": "execute_result"
    },
    {
     "data": {
      "image/png": "[encoded data removed]",
      "text/plain": [
       "<Figure size 640x480 with 1 Axes>"
      ]
     },
     "metadata": {},
     "output_type": "display_data"
    }
   ],
   "source": [
    "from scipy.special import digamma\n",
    "\n",
    "plt.plot(digamma(np.linspace(0,1)))"
   ]
  },
  {
   "cell_type": "markdown",
   "id": "473df9a5",
   "metadata": {},
   "source": [
    "from https://arxiv.org/pdf/2004.13361.pdf\n",
    "\n",
    "## The canonical HRF\n",
    "\n",
    "There exists several models to describe the functional shape of the HRF. As we mentioned above, one of the most widely used is the two-gamma distribution model [11](https://citeseerx.ist.psu.edu/document?repid=rep1&type=pdf&doi=894ae718197c528700bc4c8bf9a3b94bf4be6a7d), usually referred to as the canonical HRF. In general, the canonical HRF in a parametric model that can be written as:\n",
    "\n",
    "$$\n",
    "h(t) = \\frac{t^{a_1−1}e^{-a_2t}}{\\Gamma(a_1)} - \\alpha \\frac{t^{a_3−1}e^{-a_4t}}{\\Gamma(a_3)},\n",
    "$$\n",
    "\n",
    "where $\\Gamma(\\cdot)$ is the Gamma function, $\\alpha$ controls the relative rati of response to undershoot, and $a_1$, $a_2$, $a_3$, and $a_4$ are four parameters that controls the functional shape of the HRF. Therefore, for this model, a total number of 5 parameters are required to define the HRF."
   ]
  },
  {
   "cell_type": "code",
   "execution_count": 10,
   "id": "d6c02b01",
   "metadata": {},
   "outputs": [
    {
     "data": {
      "text/plain": [
       "[<matplotlib.lines.Line2D at 0x7ff9edb0edf0>]"
      ]
     },
     "execution_count": 10,
     "metadata": {},
     "output_type": "execute_result"
    },
    {
     "data": {
      "image/png": "[encoded data removed]",
      "text/plain": [
       "<Figure size 640x480 with 1 Axes>"
      ]
     },
     "metadata": {},
     "output_type": "display_data"
    }
   ],
   "source": [
    "from scipy.special import gamma\n",
    "\n",
    "def canHRF(t, a1=6, a2=1, a3=16, a4=1, alpha=1/6):\n",
    "    \"\"\"\n",
    "    makes a canonical two-gamma HRF according to \n",
    "    \n",
    "    $$\n",
    "    h(t) = \\frac{t^{a_1−1}e^{-a_2t}}{\\Gamma(a_1)} - \\alpha \\frac{t^{a_3−1}e^{-a_4t}}{\\Gamma(a_3)},\n",
    "    $$\n",
    "    \n",
    "    t is the input time\n",
    "    a1, a2, a3, a4 are shape params\n",
    "    alpha controls the ratio of response to undershoot\n",
    "    \n",
    "    some plausible parameters are: alpha = 1/6, a1 = 6, \n",
    "    a3 = 16 and a2 = a4 = 1, see defaults, \n",
    "    which give a nice hrf returning to baseline after 25s\n",
    "    \"\"\"\n",
    "    \n",
    "    hrf = (t**(a1-1) * np.exp(-a2*t))/gamma(a1) - alpha * (t**(a3-1) * np.exp(-a4*t))/gamma(a3)\n",
    "    return hrf\n",
    "\n",
    "t = np.linspace(0, 30, 100)\n",
    "plt.plot(t, canHRF(t))"
   ]
  },
  {
   "cell_type": "code",
   "execution_count": null,
   "id": "93283a9d",
   "metadata": {},
   "outputs": [],
   "source": []
  }
 ],
 "metadata": {
  "kernelspec": {
   "display_name": "Python 3 (ipykernel)",
   "language": "python",
   "name": "python3"
  },
  "language_info": {
   "codemirror_mode": {
    "name": "ipython",
    "version": 3
   },
   "file_extension": ".py",
   "mimetype": "text/x-python",
   "name": "python",
   "nbconvert_exporter": "python",
   "pygments_lexer": "ipython3",
   "version": "3.9.13"
  }
 },
 "nbformat": 4,
 "nbformat_minor": 5
}
