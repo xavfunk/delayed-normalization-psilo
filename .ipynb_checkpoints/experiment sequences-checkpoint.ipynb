{
 "cells": [
  {
   "cell_type": "markdown",
   "id": "eb001407",
   "metadata": {},
   "source": [
    "- [ ] implement ITIs properly (either with the help of optseq2 or simply from a histogram between 4 and 12 of an exponential distribution)\n",
    "\t- [ ] 3 levels: exact distribution, noise level, randomization of trials\n",
    "\t- [x] get a hist\n",
    "\t- [x] randomize\n",
    "\t- [x] convolve linearly scaled signal response amplitudes with HRF\n",
    "\t\t- [x] long one: two-gamma with back to baseline after 20s\n",
    "\t- [x] deconvolve or GLM it\n",
    "\t- [ ] noise could be a specific autocrrelated noise, ie Riemann noise with scipy\n",
    "    - [ ] can I recover the different response amplitudes in beta-weights?"
   ]
  },
  {
   "cell_type": "code",
   "execution_count": 1,
   "id": "ac0a96dc",
   "metadata": {},
   "outputs": [],
   "source": [
    "import numpy as np\n",
    "import matplotlib.pyplot as plt\n",
    "import random\n",
    "from scipy.special import gamma\n",
    "from ITI_simulations import *\n",
    "import ipywidgets as widgets  # interactive display"
   ]
  },
  {
   "cell_type": "code",
   "execution_count": 2,
   "id": "1fdc0a56",
   "metadata": {},
   "outputs": [
    {
     "data": {
      "text/plain": [
       "(array([0, 2, 1]), array([0, 1, 2, 3]))"
      ]
     },
     "execution_count": 2,
     "metadata": {},
     "output_type": "execute_result"
    }
   ],
   "source": [
    "# in numpy, histograms are tuples of values/bins\n",
    "np.histogram([1, 2, 1], bins=[0, 1, 2, 3])"
   ]
  },
  {
   "cell_type": "code",
   "execution_count": 3,
   "id": "4bf8d16a",
   "metadata": {},
   "outputs": [],
   "source": [
    "# Tomas' basic exponential histogram over ITI values 1-20\n",
    "basic_hist = (np.array([20, 10, 5, 2, 1, 1, 0, 0, 0]), np.array([4, 5, 6, 7, 8, 9, 10, 11, 12]))"
   ]
  },
  {
   "cell_type": "code",
   "execution_count": 4,
   "id": "5fa65f12",
   "metadata": {},
   "outputs": [
    {
     "data": {
      "text/plain": [
       "(array([20, 10,  5,  2,  1,  1,  0,  0,  0]),\n",
       " array([ 4,  5,  6,  7,  8,  9, 10, 11, 12]))"
      ]
     },
     "execution_count": 4,
     "metadata": {},
     "output_type": "execute_result"
    }
   ],
   "source": [
    "basic_hist"
   ]
  },
  {
   "cell_type": "code",
   "execution_count": 5,
   "id": "3bb41b25",
   "metadata": {},
   "outputs": [
    {
     "data": {
      "text/plain": [
       "[<matplotlib.lines.Line2D at 0x7f6730908ca0>]"
      ]
     },
     "execution_count": 5,
     "metadata": {},
     "output_type": "execute_result"
    },
    {
     "data": {
      "image/png": "[encoded data removed]",
      "text/plain": [
       "<Figure size 640x480 with 1 Axes>"
      ]
     },
     "metadata": {},
     "output_type": "display_data"
    }
   ],
   "source": [
    "plt.bar(basic_hist[1],basic_hist[0])\n",
    "x = np.linspace(0, 13)\n",
    "lam = .75\n",
    "shift = 4\n",
    "# plt.show\n",
    "plt.plot(x + shift, lam * np.exp(-lam * (x - shift)), color = \"orange\")"
   ]
  },
  {
   "cell_type": "code",
   "execution_count": 6,
   "id": "a27aa066",
   "metadata": {},
   "outputs": [
    {
     "data": {
      "application/vnd.jupyter.widget-view+json": {
       "model_id": "15b10d7afd4e4c689992ea5a20ee54e5",
       "version_major": 2,
       "version_minor": 0
      },
      "text/plain": [
       "interactive(children=(FloatSlider(value=1.0, description='lam', max=5.0), FloatSlider(value=1.0, description='…"
      ]
     },
     "metadata": {},
     "output_type": "display_data"
    }
   ],
   "source": [
    "# as a widget\n",
    "shift = 4\n",
    "\n",
    "@widgets.interact(lam = widgets.FloatSlider(value=1, min=0, max=5, step=.1), \n",
    "                  scale = widgets.FloatSlider(value=1, min=0, max=30, step=.1))\n",
    "\n",
    "def plot_hists(lam, scale):\n",
    "    fig, ax = plt.subplots()\n",
    "    ax.bar(basic_hist[1],basic_hist[0])\n",
    "    ax.plot(x, scale * (lam * np.exp(-lam * (x - shift))), color = \"orange\")\n",
    "    ax.vlines(4, 0, 20, color = 'orange')\n",
    "    ax.set_ylim(0, 20)\n",
    "    ax.set_xlim(3.5, 20)\n",
    "    plt.show()"
   ]
  },
  {
   "cell_type": "code",
   "execution_count": 7,
   "id": "147853e0",
   "metadata": {},
   "outputs": [
    {
     "data": {
      "text/plain": [
       "array([1.50641527e+01, 1.23460767e+01, 1.01184323e+01, 8.29272938e+00,\n",
       "       6.79644418e+00, 5.57013878e+00, 4.56509980e+00, 3.74140341e+00,\n",
       "       3.06632934e+00, 2.51306117e+00, 2.05962105e+00, 1.68799666e+00,\n",
       "       1.38342572e+00, 1.13380954e+00, 9.29232448e-01, 7.61567896e-01,\n",
       "       6.24155626e-01, 5.11537116e-01, 4.19238744e-01, 3.43594080e-01,\n",
       "       2.81598239e-01, 2.30788516e-01, 1.89146564e-01, 1.55018210e-01,\n",
       "       1.27047750e-01, 1.04124095e-01, 8.53366326e-02, 6.99390555e-02,\n",
       "       5.73197152e-02, 4.69773252e-02, 3.85010476e-02, 3.15541734e-02,\n",
       "       2.58607472e-02, 2.11946052e-02, 1.73703909e-02, 1.42361925e-02,\n",
       "       1.16675082e-02, 9.56230024e-03, 7.83694207e-03, 6.42289612e-03,\n",
       "       5.26399126e-03, 4.31419152e-03, 3.53576736e-03, 2.89779690e-03,\n",
       "       2.37493761e-03, 1.94641958e-03, 1.59522052e-03, 1.30738949e-03,\n",
       "       1.07149278e-03, 8.78159716e-04])"
      ]
     },
     "execution_count": 7,
     "metadata": {},
     "output_type": "execute_result"
    }
   ],
   "source": [
    "lam * np.exp(-lam * (x - shift))"
   ]
  },
  {
   "cell_type": "code",
   "execution_count": 8,
   "id": "769afdf9",
   "metadata": {},
   "outputs": [],
   "source": [
    "# trials is a mapping between trial types and the corresponding amplitude scaling factor \n",
    "trials = {\"dur_0\" : 0,\n",
    "         \"dur_17\" : 1,\n",
    "         \"dur_33\" : 2,\n",
    "         \"dur_67\" : 3,\n",
    "         \"dur_134\" : 4,\n",
    "         \"dur_267-isi_0\" : 5,\n",
    "         \"dur_533\" : 6,\n",
    "         \"isi_17\" : 5,\n",
    "         \"isi_33\" : 5.1,\n",
    "         \"isi_67\" : 5.3,\n",
    "         \"isi_134\" : 5.5,\n",
    "         \"isi_267\" : 5.8,\n",
    "         \"isi_533\" : 6}"
   ]
  },
  {
   "cell_type": "code",
   "execution_count": 9,
   "id": "08c3d4b3",
   "metadata": {},
   "outputs": [
    {
     "data": {
      "text/plain": [
       "(1910,)"
      ]
     },
     "execution_count": 9,
     "metadata": {},
     "output_type": "execute_result"
    }
   ],
   "source": [
    "t = np.linspace(0, 191, 191 * 10)\n",
    "t.shape"
   ]
  },
  {
   "cell_type": "code",
   "execution_count": 10,
   "id": "de686c1f",
   "metadata": {},
   "outputs": [
    {
     "data": {
      "text/plain": [
       "[<matplotlib.lines.Line2D at 0x7f672e6678b0>]"
      ]
     },
     "execution_count": 10,
     "metadata": {},
     "output_type": "execute_result"
    },
    {
     "data": {
      "image/png": "[encoded data removed]",
      "text/plain": [
       "<Figure size 640x480 with 1 Axes>"
      ]
     },
     "metadata": {},
     "output_type": "display_data"
    }
   ],
   "source": [
    "## Testing/putting stuff together\n",
    "# trials is a mapping between trial types and the corresponding amplitude scaling factor \n",
    "trials = {\"dur_0\" : 0,\n",
    "         \"dur_17\" : 1,\n",
    "         \"dur_33\" : 2,\n",
    "         \"dur_67\" : 3,\n",
    "         \"dur_134\" : 4,\n",
    "         \"dur_267-isi_0\" : 5,\n",
    "         \"dur_533\" : 6,\n",
    "         \"isi_17\" : 5,\n",
    "         \"isi_33\" : 5.1,\n",
    "         \"isi_67\" : 5.3,\n",
    "         \"isi_134\" : 5.5,\n",
    "         \"isi_267\" : 5.8,\n",
    "         \"isi_533\" : 6}\n",
    "\n",
    "#trials = {\"isi_67\" : 5.3}\n",
    "\n",
    "hist = make_hist(n_trials = 2)\n",
    "hist = (np.array([20, 10, 5, 2, 1, 1, 0, 0, 0]), np.array([4, 5, 6, 7, 8, 9, 10, 11, 12]))\n",
    "randomized_seq = randomize_trials(hist)\n",
    "upsampled = unfold_upsample(randomized_seq, upsample_factor = 1)\n",
    "scaled, events_dict = scale_amplitudes(upsampled, trials = trials)\n",
    "sc_conv = convolve_HRF(scaled, 1, 30)\n",
    "\n",
    "events_dict\n",
    "fig, ax = plot_trial_sequence(scaled, events_dict)\n",
    "ax.set_xlim(-5, 300)\n",
    "ax.plot(sc_conv)"
   ]
  },
  {
   "cell_type": "code",
   "execution_count": 11,
   "id": "7e13fa88",
   "metadata": {},
   "outputs": [
    {
     "data": {
      "text/plain": [
       "(220,)"
      ]
     },
     "execution_count": 11,
     "metadata": {},
     "output_type": "execute_result"
    }
   ],
   "source": [
    "sc_conv.shape"
   ]
  },
  {
   "cell_type": "code",
   "execution_count": 12,
   "id": "b500d1c5",
   "metadata": {},
   "outputs": [
    {
     "data": {
      "text/plain": [
       "381"
      ]
     },
     "execution_count": 12,
     "metadata": {},
     "output_type": "execute_result"
    }
   ],
   "source": [
    "191*2 - 1"
   ]
  },
  {
   "cell_type": "code",
   "execution_count": 13,
   "id": "5df1163d",
   "metadata": {},
   "outputs": [
    {
     "data": {
      "text/plain": [
       "<matplotlib.image.AxesImage at 0x7f672e5b4310>"
      ]
     },
     "execution_count": 13,
     "metadata": {},
     "output_type": "execute_result"
    },
    {
     "data": {
      "image/png": "[encoded data removed]",
      "text/plain": [
       "<Figure size 640x480 with 1 Axes>"
      ]
     },
     "metadata": {},
     "output_type": "display_data"
    }
   ],
   "source": [
    "conds = [\"dur_0\",\n",
    "         \"dur_17\",\n",
    "         \"dur_33\",\n",
    "         \"dur_67\",\n",
    "         \"dur_134\",\n",
    "         \"dur_267-isi_0\",\n",
    "         \"dur_533\",\n",
    "         \"isi_17\",\n",
    "         \"isi_33\",\n",
    "         \"isi_67\",\n",
    "         \"isi_134\",\n",
    "         \"isi_267\",\n",
    "         \"isi_533\"]\n",
    "\n",
    "\n",
    "def make_design_matrix(events_dict, max_t = 300, conds = [\"dur_0\", \"dur_17\", \"dur_33\", \"dur_67\", \"dur_134\",\n",
    "                                                          \"dur_267-isi_0\", \"dur_533\", \"isi_17\", \"isi_33\",\n",
    "                                                          \"isi_67\", \"isi_134\", \"isi_267\", \"isi_533\"]):\n",
    "    \n",
    "    # keep track of conds : tps\n",
    "    regr_dict = {}\n",
    "    \n",
    "    # setup design matrix, shape max_t x len(conds + 1) to keep space for intercept\n",
    "    design_matrix = np.zeros((max_t, len(conds) + 1))\n",
    "    \n",
    "    # for each cond\n",
    "    for i, cond in enumerate(conds):\n",
    "        # find timepoints of stimulation\n",
    "        tps = [key for key, val in events_dict.items() if val == cond]\n",
    "        regr_dict[cond] = tps\n",
    "        \n",
    "        # setup regressor\n",
    "        regressor = np.zeros(max_t)\n",
    "        regressor[tps] = 1\n",
    "        \n",
    "        # convolve with HRF, cut to max_t, put into matrix\n",
    "        conv_regressor = convolve_HRF(regressor, 1)[:max_t]\n",
    "        design_matrix[:,i] = conv_regressor.T \n",
    "        \n",
    "    # column of ones for intercept\n",
    "    design_matrix[:,-1] = 1\n",
    "    \n",
    "    return design_matrix, regr_dict\n",
    "\n",
    "plt.imshow(make_design_matrix(events_dict)[0][:,:-1], aspect = .1)"
   ]
  },
  {
   "cell_type": "code",
   "execution_count": 14,
   "id": "463c160f",
   "metadata": {},
   "outputs": [
    {
     "data": {
      "text/html": [
       "<div>\n",
       "<style scoped>\n",
       "    .dataframe tbody tr th:only-of-type {\n",
       "        vertical-align: middle;\n",
       "    }\n",
       "\n",
       "    .dataframe tbody tr th {\n",
       "        vertical-align: top;\n",
       "    }\n",
       "\n",
       "    .dataframe thead th {\n",
       "        text-align: right;\n",
       "    }\n",
       "</style>\n",
       "<table border=\"1\" class=\"dataframe\">\n",
       "  <thead>\n",
       "    <tr style=\"text-align: right;\">\n",
       "      <th></th>\n",
       "      <th>dur_0</th>\n",
       "      <th>dur_17</th>\n",
       "      <th>dur_33</th>\n",
       "      <th>dur_67</th>\n",
       "      <th>dur_134</th>\n",
       "      <th>dur_267-isi_0</th>\n",
       "      <th>dur_533</th>\n",
       "      <th>isi_17</th>\n",
       "      <th>isi_33</th>\n",
       "      <th>isi_67</th>\n",
       "      <th>isi_134</th>\n",
       "      <th>isi_267</th>\n",
       "      <th>isi_533</th>\n",
       "      <th>intercept</th>\n",
       "    </tr>\n",
       "  </thead>\n",
       "  <tbody>\n",
       "    <tr>\n",
       "      <th>0</th>\n",
       "      <td>0.0</td>\n",
       "      <td>0.0</td>\n",
       "      <td>0.0</td>\n",
       "      <td>0.0</td>\n",
       "      <td>0.0</td>\n",
       "      <td>0.0</td>\n",
       "      <td>0.0</td>\n",
       "      <td>0.0</td>\n",
       "      <td>0.0</td>\n",
       "      <td>0.0</td>\n",
       "      <td>0.000000</td>\n",
       "      <td>0.0</td>\n",
       "      <td>0.0</td>\n",
       "      <td>1.0</td>\n",
       "    </tr>\n",
       "    <tr>\n",
       "      <th>1</th>\n",
       "      <td>0.0</td>\n",
       "      <td>0.0</td>\n",
       "      <td>0.0</td>\n",
       "      <td>0.0</td>\n",
       "      <td>0.0</td>\n",
       "      <td>0.0</td>\n",
       "      <td>0.0</td>\n",
       "      <td>0.0</td>\n",
       "      <td>0.0</td>\n",
       "      <td>0.0</td>\n",
       "      <td>0.003509</td>\n",
       "      <td>0.0</td>\n",
       "      <td>0.0</td>\n",
       "      <td>1.0</td>\n",
       "    </tr>\n",
       "    <tr>\n",
       "      <th>2</th>\n",
       "      <td>0.0</td>\n",
       "      <td>0.0</td>\n",
       "      <td>0.0</td>\n",
       "      <td>0.0</td>\n",
       "      <td>0.0</td>\n",
       "      <td>0.0</td>\n",
       "      <td>0.0</td>\n",
       "      <td>0.0</td>\n",
       "      <td>0.0</td>\n",
       "      <td>0.0</td>\n",
       "      <td>0.039907</td>\n",
       "      <td>0.0</td>\n",
       "      <td>0.0</td>\n",
       "      <td>1.0</td>\n",
       "    </tr>\n",
       "    <tr>\n",
       "      <th>3</th>\n",
       "      <td>0.0</td>\n",
       "      <td>0.0</td>\n",
       "      <td>0.0</td>\n",
       "      <td>0.0</td>\n",
       "      <td>0.0</td>\n",
       "      <td>0.0</td>\n",
       "      <td>0.0</td>\n",
       "      <td>0.0</td>\n",
       "      <td>0.0</td>\n",
       "      <td>0.0</td>\n",
       "      <td>0.107704</td>\n",
       "      <td>0.0</td>\n",
       "      <td>0.0</td>\n",
       "      <td>1.0</td>\n",
       "    </tr>\n",
       "    <tr>\n",
       "      <th>4</th>\n",
       "      <td>0.0</td>\n",
       "      <td>0.0</td>\n",
       "      <td>0.0</td>\n",
       "      <td>0.0</td>\n",
       "      <td>0.0</td>\n",
       "      <td>0.0</td>\n",
       "      <td>0.0</td>\n",
       "      <td>0.0</td>\n",
       "      <td>0.0</td>\n",
       "      <td>0.0</td>\n",
       "      <td>0.161304</td>\n",
       "      <td>0.0</td>\n",
       "      <td>0.0</td>\n",
       "      <td>1.0</td>\n",
       "    </tr>\n",
       "    <tr>\n",
       "      <th>...</th>\n",
       "      <td>...</td>\n",
       "      <td>...</td>\n",
       "      <td>...</td>\n",
       "      <td>...</td>\n",
       "      <td>...</td>\n",
       "      <td>...</td>\n",
       "      <td>...</td>\n",
       "      <td>...</td>\n",
       "      <td>...</td>\n",
       "      <td>...</td>\n",
       "      <td>...</td>\n",
       "      <td>...</td>\n",
       "      <td>...</td>\n",
       "      <td>...</td>\n",
       "    </tr>\n",
       "    <tr>\n",
       "      <th>295</th>\n",
       "      <td>0.0</td>\n",
       "      <td>0.0</td>\n",
       "      <td>0.0</td>\n",
       "      <td>0.0</td>\n",
       "      <td>0.0</td>\n",
       "      <td>0.0</td>\n",
       "      <td>0.0</td>\n",
       "      <td>0.0</td>\n",
       "      <td>0.0</td>\n",
       "      <td>0.0</td>\n",
       "      <td>0.000000</td>\n",
       "      <td>0.0</td>\n",
       "      <td>0.0</td>\n",
       "      <td>1.0</td>\n",
       "    </tr>\n",
       "    <tr>\n",
       "      <th>296</th>\n",
       "      <td>0.0</td>\n",
       "      <td>0.0</td>\n",
       "      <td>0.0</td>\n",
       "      <td>0.0</td>\n",
       "      <td>0.0</td>\n",
       "      <td>0.0</td>\n",
       "      <td>0.0</td>\n",
       "      <td>0.0</td>\n",
       "      <td>0.0</td>\n",
       "      <td>0.0</td>\n",
       "      <td>0.000000</td>\n",
       "      <td>0.0</td>\n",
       "      <td>0.0</td>\n",
       "      <td>1.0</td>\n",
       "    </tr>\n",
       "    <tr>\n",
       "      <th>297</th>\n",
       "      <td>0.0</td>\n",
       "      <td>0.0</td>\n",
       "      <td>0.0</td>\n",
       "      <td>0.0</td>\n",
       "      <td>0.0</td>\n",
       "      <td>0.0</td>\n",
       "      <td>0.0</td>\n",
       "      <td>0.0</td>\n",
       "      <td>0.0</td>\n",
       "      <td>0.0</td>\n",
       "      <td>0.000000</td>\n",
       "      <td>0.0</td>\n",
       "      <td>0.0</td>\n",
       "      <td>1.0</td>\n",
       "    </tr>\n",
       "    <tr>\n",
       "      <th>298</th>\n",
       "      <td>0.0</td>\n",
       "      <td>0.0</td>\n",
       "      <td>0.0</td>\n",
       "      <td>0.0</td>\n",
       "      <td>0.0</td>\n",
       "      <td>0.0</td>\n",
       "      <td>0.0</td>\n",
       "      <td>0.0</td>\n",
       "      <td>0.0</td>\n",
       "      <td>0.0</td>\n",
       "      <td>0.000000</td>\n",
       "      <td>0.0</td>\n",
       "      <td>0.0</td>\n",
       "      <td>1.0</td>\n",
       "    </tr>\n",
       "    <tr>\n",
       "      <th>299</th>\n",
       "      <td>0.0</td>\n",
       "      <td>0.0</td>\n",
       "      <td>0.0</td>\n",
       "      <td>0.0</td>\n",
       "      <td>0.0</td>\n",
       "      <td>0.0</td>\n",
       "      <td>0.0</td>\n",
       "      <td>0.0</td>\n",
       "      <td>0.0</td>\n",
       "      <td>0.0</td>\n",
       "      <td>0.000000</td>\n",
       "      <td>0.0</td>\n",
       "      <td>0.0</td>\n",
       "      <td>1.0</td>\n",
       "    </tr>\n",
       "  </tbody>\n",
       "</table>\n",
       "<p>300 rows × 14 columns</p>\n",
       "</div>"
      ],
      "text/plain": [
       "     dur_0  dur_17  dur_33  dur_67  dur_134  dur_267-isi_0  dur_533  isi_17  \\\n",
       "0      0.0     0.0     0.0     0.0      0.0            0.0      0.0     0.0   \n",
       "1      0.0     0.0     0.0     0.0      0.0            0.0      0.0     0.0   \n",
       "2      0.0     0.0     0.0     0.0      0.0            0.0      0.0     0.0   \n",
       "3      0.0     0.0     0.0     0.0      0.0            0.0      0.0     0.0   \n",
       "4      0.0     0.0     0.0     0.0      0.0            0.0      0.0     0.0   \n",
       "..     ...     ...     ...     ...      ...            ...      ...     ...   \n",
       "295    0.0     0.0     0.0     0.0      0.0            0.0      0.0     0.0   \n",
       "296    0.0     0.0     0.0     0.0      0.0            0.0      0.0     0.0   \n",
       "297    0.0     0.0     0.0     0.0      0.0            0.0      0.0     0.0   \n",
       "298    0.0     0.0     0.0     0.0      0.0            0.0      0.0     0.0   \n",
       "299    0.0     0.0     0.0     0.0      0.0            0.0      0.0     0.0   \n",
       "\n",
       "     isi_33  isi_67   isi_134  isi_267  isi_533  intercept  \n",
       "0       0.0     0.0  0.000000      0.0      0.0        1.0  \n",
       "1       0.0     0.0  0.003509      0.0      0.0        1.0  \n",
       "2       0.0     0.0  0.039907      0.0      0.0        1.0  \n",
       "3       0.0     0.0  0.107704      0.0      0.0        1.0  \n",
       "4       0.0     0.0  0.161304      0.0      0.0        1.0  \n",
       "..      ...     ...       ...      ...      ...        ...  \n",
       "295     0.0     0.0  0.000000      0.0      0.0        1.0  \n",
       "296     0.0     0.0  0.000000      0.0      0.0        1.0  \n",
       "297     0.0     0.0  0.000000      0.0      0.0        1.0  \n",
       "298     0.0     0.0  0.000000      0.0      0.0        1.0  \n",
       "299     0.0     0.0  0.000000      0.0      0.0        1.0  \n",
       "\n",
       "[300 rows x 14 columns]"
      ]
     },
     "execution_count": 14,
     "metadata": {},
     "output_type": "execute_result"
    }
   ],
   "source": [
    "import pandas as pd\n",
    "\n",
    "data = pd.DataFrame(make_design_matrix(events_dict)[0], columns = conds + ['intercept'])\n",
    "data"
   ]
  },
  {
   "cell_type": "code",
   "execution_count": 15,
   "id": "e037267d",
   "metadata": {},
   "outputs": [
    {
     "ename": "NameError",
     "evalue": "name 'sm' is not defined",
     "output_type": "error",
     "traceback": [
      "\u001b[0;31m---------------------------------------------------------------------------\u001b[0m",
      "\u001b[0;31mNameError\u001b[0m                                 Traceback (most recent call last)",
      "\u001b[0;32m/tmp/ipykernel_80525/620086784.py\u001b[0m in \u001b[0;36m<cell line: 1>\u001b[0;34m()\u001b[0m\n\u001b[0;32m----> 1\u001b[0;31m \u001b[0mdata_\u001b[0m\u001b[0;34m=\u001b[0m \u001b[0msm\u001b[0m\u001b[0;34m.\u001b[0m\u001b[0mdatasets\u001b[0m\u001b[0;34m.\u001b[0m\u001b[0mscotland\u001b[0m\u001b[0;34m.\u001b[0m\u001b[0mload\u001b[0m\u001b[0;34m(\u001b[0m\u001b[0;34m)\u001b[0m\u001b[0;34m\u001b[0m\u001b[0;34m\u001b[0m\u001b[0m\n\u001b[0m\u001b[1;32m      2\u001b[0m \u001b[0mdata_\u001b[0m\u001b[0;34m.\u001b[0m\u001b[0mexog\u001b[0m\u001b[0;34m\u001b[0m\u001b[0;34m\u001b[0m\u001b[0m\n",
      "\u001b[0;31mNameError\u001b[0m: name 'sm' is not defined"
     ]
    }
   ],
   "source": [
    "data_= sm.datasets.scotland.load()\n",
    "data_.exog"
   ]
  },
  {
   "cell_type": "code",
   "execution_count": 20,
   "id": "af941cc5",
   "metadata": {},
   "outputs": [
    {
     "data": {
      "text/plain": [
       "(220,)"
      ]
     },
     "execution_count": 20,
     "metadata": {},
     "output_type": "execute_result"
    }
   ],
   "source": [
    "design_matrix.shape\n",
    "y_obs.shape"
   ]
  },
  {
   "cell_type": "code",
   "execution_count": 21,
   "id": "224dc774",
   "metadata": {},
   "outputs": [
    {
     "name": "stdout",
     "output_type": "stream",
     "text": [
      "                 Generalized Linear Model Regression Results                  \n",
      "==============================================================================\n",
      "Dep. Variable:                      y   No. Observations:                  220\n",
      "Model:                            GLM   Df Residuals:                      206\n",
      "Model Family:                Gaussian   Df Model:                           13\n",
      "Link Function:               Identity   Scale:                        0.055743\n",
      "Method:                          IRLS   Log-Likelihood:                 12.637\n",
      "Date:                Sun, 25 Feb 2024   Deviance:                       11.483\n",
      "Time:                        22:22:50   Pearson chi2:                     11.5\n",
      "No. Iterations:                     3   Pseudo R-squ. (CS):             0.9763\n",
      "Covariance Type:            nonrobust                                         \n",
      "=================================================================================\n",
      "                    coef    std err          z      P>|z|      [0.025      0.975]\n",
      "---------------------------------------------------------------------------------\n",
      "dur_0             0.1570      0.476      0.330      0.742      -0.776       1.090\n",
      "dur_17            1.0923      0.480      2.277      0.023       0.152       2.033\n",
      "dur_33            1.9692      0.453      4.351      0.000       1.082       2.856\n",
      "dur_67            2.9429      0.443      6.639      0.000       2.074       3.812\n",
      "dur_134           4.0551      0.439      9.246      0.000       3.195       4.915\n",
      "dur_267-isi_0     5.1350      0.461     11.144      0.000       4.232       6.038\n",
      "dur_533           5.8682      0.463     12.683      0.000       4.961       6.775\n",
      "isi_17            5.1849      0.410     12.633      0.000       4.380       5.989\n",
      "isi_33            5.6578      0.463     12.215      0.000       4.750       6.566\n",
      "isi_67            5.6369      0.404     13.962      0.000       4.846       6.428\n",
      "isi_134           5.8480      0.468     12.484      0.000       4.930       6.766\n",
      "isi_267           6.1200      0.465     13.171      0.000       5.209       7.031\n",
      "isi_533           6.2751      0.457     13.732      0.000       5.379       7.171\n",
      "intercept        -0.0027      0.036     -0.075      0.940      -0.074       0.069\n",
      "=================================================================================\n"
     ]
    }
   ],
   "source": [
    "import statsmodels.api as sm\n",
    "import pandas as pd\n",
    "\n",
    "\n",
    "# Load modules and data\n",
    "design_matrix = pd.DataFrame(make_design_matrix(events_dict, 220)[0], columns = conds + ['intercept'])\n",
    "y_obs = add_noise(sc_conv, 4)\n",
    "glm = sm.GLM(y_obs, design_matrix, family=sm.families.Gaussian())\n",
    "glm_results = glm.fit()\n",
    "print(glm_results.summary())\n",
    "\n"
   ]
  },
  {
   "cell_type": "code",
   "execution_count": 30,
   "id": "810e846f",
   "metadata": {},
   "outputs": [
    {
     "data": {
      "text/plain": [
       "0.9763410791282743"
      ]
     },
     "execution_count": 30,
     "metadata": {},
     "output_type": "execute_result"
    }
   ],
   "source": [
    "glm_results._results.pseudo_rsquared()"
   ]
  },
  {
   "cell_type": "code",
   "execution_count": null,
   "id": "71a92aac",
   "metadata": {},
   "outputs": [],
   "source": [
    "glm_results._results.__dict__\n",
    "glm_results.params"
   ]
  },
  {
   "cell_type": "code",
   "execution_count": null,
   "id": "58237294",
   "metadata": {},
   "outputs": [],
   "source": [
    "y_pred = glm.predict(glm_results.params)\n",
    "plt.plot(y_pred)\n",
    "plt.plot(y_obs)\n",
    "# plt.plot(sc_conv)"
   ]
  },
  {
   "cell_type": "code",
   "execution_count": null,
   "id": "5b20ae5e",
   "metadata": {},
   "outputs": [],
   "source": [
    "glm_results.params\n"
   ]
  },
  {
   "cell_type": "code",
   "execution_count": null,
   "id": "c8febdb6",
   "metadata": {},
   "outputs": [],
   "source": [
    "trials_ser = pd.Series(trials)\n",
    "pd.DataFrame({'glm_weights' :glm_results.params, 'ground':trials_ser})"
   ]
  },
  {
   "cell_type": "code",
   "execution_count": null,
   "id": "47ccc330",
   "metadata": {},
   "outputs": [],
   "source": [
    "import numpy as np\n",
    "import matplotlib.pyplot as plt\n",
    "from scipy.signal import lfilter\n",
    "import scipy.signal as signal\n",
    "\n",
    "# Generate white noise\n",
    "num_samples = 1000\n",
    "white_noise = np.random.normal(size=num_samples)\n",
    "\n",
    "# Design a low-pass filter\n",
    "order = 4  # Filter order\n",
    "cutoff_frequency = 0.1  # Adjust cutoff frequency as needed\n",
    "b, a = signal.butter(order, cutoff_frequency, btype='low', analog=False)\n",
    "\n",
    "# Apply the filter to the white noise to create autocorrelated noise\n",
    "autocorrelated_noise = lfilter(b, a, white_noise)\n",
    "\n",
    "# Plot the autocorrelated noise\n",
    "plt.plot(autocorrelated_noise)\n",
    "# plt.plot(white_noise)\n",
    "\n",
    "plt.title('Autocorrelated Noise')\n",
    "plt.xlabel('Time')\n",
    "plt.ylabel('Amplitude')\n",
    "plt.show()\n"
   ]
  },
  {
   "cell_type": "code",
   "execution_count": null,
   "id": "c9e4295e",
   "metadata": {},
   "outputs": [],
   "source": [
    "def add_noise(Y, SNR = 1):\n",
    "    return Y + 1/SNR * np.random.normal(0, 1, size = len(Y))\n",
    "\n",
    "plt.plot(add_noise(sc_conv, 4))"
   ]
  },
  {
   "cell_type": "code",
   "execution_count": null,
   "id": "053f7394",
   "metadata": {},
   "outputs": [],
   "source": [
    "import numpy as np\n",
    "\n",
    "def sample_signal(n_samples, corr, mu=0, sigma=1):\n",
    "    assert 0 < corr < 1, \"Auto-correlation must be between 0 and 1\"\n",
    "\n",
    "    # Find out the offset `c` and the std of the white noise `sigma_e`\n",
    "    # that produce a signal with the desired mean and variance.\n",
    "    # See https://en.wikipedia.org/wiki/Autoregressive_model\n",
    "    # under section \"Example: An AR(1) process\".\n",
    "    c = mu * (1 - corr)\n",
    "    sigma_e = np.sqrt((sigma ** 2) * (1 - corr ** 2))\n",
    "\n",
    "    # Sample the auto-regressive process.\n",
    "    signal = [c + np.random.normal(0, sigma_e)]\n",
    "    for _ in range(1, n_samples):\n",
    "        signal.append(c + corr * signal[-1] + np.random.normal(0, sigma_e))\n",
    "\n",
    "    return np.array(signal)\n",
    "\n",
    "def compute_corr_lag_1(signal):\n",
    "    return np.corrcoef(signal[:-1], signal[1:])[0][1]\n",
    "\n",
    "# Examples.\n",
    "print(compute_corr_lag_1(sample_signal(5000, 0.5)))\n",
    "print(np.mean(sample_signal(5000, 0.5, mu=2)))\n",
    "print(np.std(sample_signal(5000, 0.5, sigma=3)))\n",
    "plt.plot(sample_signal(5000, 0.5, sigma=1)[:100])\n",
    "plt.plot(sample_signal(5000, 0.9, sigma=1)[:100])"
   ]
  },
  {
   "cell_type": "code",
   "execution_count": null,
   "id": "5a74bca3",
   "metadata": {},
   "outputs": [],
   "source": [
    "equi_conv = convolve_HRF(equidistant, 5)\n",
    "\n",
    "len()"
   ]
  },
  {
   "cell_type": "code",
   "execution_count": null,
   "id": "869bf2b0",
   "metadata": {},
   "outputs": [],
   "source": [
    "equidistant = np.zeros(100)\n",
    "equidistant[25] = 1\n",
    "equidistant[50] = 2\n",
    "equidistant[75] = 5\n",
    "\n",
    "\n",
    "equi_conv = convolve_HRF(equidistant, 1)\n",
    "\n",
    "plt.plot(equidistant)\n",
    "plt.plot(equi_conv)\n",
    "# plt.xlim(25,50)"
   ]
  },
  {
   "cell_type": "code",
   "execution_count": null,
   "id": "04ca223b",
   "metadata": {},
   "outputs": [],
   "source": [
    "# defining the mapping, eyeballing from Zhou et al 2018 fig 5. Potentially getting the exact values from \n",
    "# the script trf_mkFigure5.m\n",
    "\n",
    "## in terms of multiples of the signal\n",
    "{\"dur\" :{0 : 0,\n",
    "        17 : 1,\n",
    "        33 : 2,\n",
    "        67 : 3,\n",
    "        134: 4,\n",
    "        267: 5,\n",
    "        533: 6},\n",
    "\n",
    " \"isi\" : {0 : 5, # == 267\n",
    "        17 : 5.1,\n",
    "        33 : 5.3,\n",
    "        67 : 5.5,\n",
    "        134: 5.7,\n",
    "        267: 5.8,\n",
    "        533: 6}}\n",
    "\n",
    "## in terms of % BOLD change\n",
    "{\"dur\" :{0 : 0,\n",
    "        17 : 1.01,\n",
    "        33 : 1.02,\n",
    "        67 : 1.03,\n",
    "        134: 1.04,\n",
    "        267: 1.05,\n",
    "        533: 1.06},\n",
    "\n",
    " \"isi\" : {0 : 1.05, # == 267\n",
    "        17 : 1.051,\n",
    "        33 : 1.053,\n",
    "        67 : 1.055,\n",
    "        134: 1.057,\n",
    "        267: 1.058,\n",
    "        533: 1.06}}\n",
    "\n",
    "## renaming some\n",
    "trials = {\"dur_0\" : 0,\n",
    " \"dur_17\" : 1,\n",
    " \"dur_33\" : 2,\n",
    " \"dur_67\" : 3,\n",
    " \"dur_134\" : 4,\n",
    " \"dur_267-isi_0\" : 5,\n",
    " \"dur_533\" : 6,\n",
    " \"isi_17\" : 5,\n",
    " \"isi_33\" : 5.1,\n",
    " \"isi_67\" : 5.3,\n",
    " \"isi_134\" : 5.5,\n",
    " \"isi_267\" : 5.8,\n",
    " \"isi_533\" : 6}"
   ]
  },
  {
   "cell_type": "code",
   "execution_count": null,
   "id": "a1337908",
   "metadata": {},
   "outputs": [],
   "source": [
    "from scipy.special import digamma\n",
    "\n",
    "plt.plot(digamma(np.linspace(0,1)))"
   ]
  },
  {
   "cell_type": "markdown",
   "id": "473df9a5",
   "metadata": {},
   "source": [
    "from https://arxiv.org/pdf/2004.13361.pdf\n",
    "\n",
    "## The canonical HRF\n",
    "\n",
    "There exists several models to describe the functional shape of the HRF. As we mentioned above, one of the most widely used is the two-gamma distribution model [11](https://citeseerx.ist.psu.edu/document?repid=rep1&type=pdf&doi=894ae718197c528700bc4c8bf9a3b94bf4be6a7d), usually referred to as the canonical HRF. In general, the canonical HRF in a parametric model that can be written as:\n",
    "\n",
    "$$\n",
    "h(t) = \\frac{t^{a_1−1}e^{-a_2t}}{\\Gamma(a_1)} - \\alpha \\frac{t^{a_3−1}e^{-a_4t}}{\\Gamma(a_3)},\n",
    "$$\n",
    "\n",
    "where $\\Gamma(\\cdot)$ is the Gamma function, $\\alpha$ controls the relative rati of response to undershoot, and $a_1$, $a_2$, $a_3$, and $a_4$ are four parameters that controls the functional shape of the HRF. Therefore, for this model, a total number of 5 parameters are required to define the HRF."
   ]
  },
  {
   "cell_type": "code",
   "execution_count": null,
   "id": "d6c02b01",
   "metadata": {},
   "outputs": [],
   "source": [
    "from scipy.special import gamma\n",
    "\n",
    "def canHRF(t, a1=6, a2=1, a3=16, a4=1, alpha=1/6):\n",
    "    \"\"\"\n",
    "    makes a canonical two-gamma HRF according to \n",
    "    \n",
    "    $$\n",
    "    h(t) = \\frac{t^{a_1−1}e^{-a_2t}}{\\Gamma(a_1)} - \\alpha \\frac{t^{a_3−1}e^{-a_4t}}{\\Gamma(a_3)},\n",
    "    $$\n",
    "    \n",
    "    t is the input time\n",
    "    a1, a2, a3, a4 are shape params\n",
    "    alpha controls the ratio of response to undershoot\n",
    "    \n",
    "    some plausible parameters are: alpha = 1/6, a1 = 6, \n",
    "    a3 = 16 and a2 = a4 = 1, see defaults, \n",
    "    which give a nice hrf returning to baseline after 25s\n",
    "    \"\"\"\n",
    "    \n",
    "    hrf = (t**(a1-1) * np.exp(-a2*t))/gamma(a1) - alpha * (t**(a3-1) * np.exp(-a4*t))/gamma(a3)\n",
    "    return hrf\n",
    "\n",
    "t = np.linspace(0, 30, 100)\n",
    "plt.plot(t, canHRF(t))"
   ]
  },
  {
   "cell_type": "markdown",
   "id": "792375d2",
   "metadata": {},
   "source": [
    "## Geometric distributions are the discrete equivalent of Exponential\n",
    "\n",
    "see also [wiki](https://en.wikipedia.org/wiki/Geometric_distribution).\n",
    "\n",
    "In fact, the method Tomas used to draw the initial histogram was choosing some rate (parameter $p$, $\\lambda$ is the exponential distribution equivalent), in this case .5 and proceeding as follows:\n",
    "\n",
    "```\n",
    "bin_1 = n_trials * .5\n",
    "bin_2 = bin_1 - bin_1 * .5\n",
    "bin_3 = bin_2 - bin_2 * .5\n",
    ".\n",
    ".\n",
    ".\n",
    "```\n",
    "Therefore, one could try out different rates for this."
   ]
  },
  {
   "cell_type": "code",
   "execution_count": 31,
   "id": "a0b9bb1e",
   "metadata": {},
   "outputs": [],
   "source": [
    "import numpy as np\n",
    "\n",
    "def get_geometric_dist(p, length):\n",
    "    \n",
    "    geometric_dist = np.zeros(length)\n",
    "    geometric_dist[0] = p\n",
    "    \n",
    "    for i in range(1, length):\n",
    "        geometric_dist[i] = geometric_dist[i-1] - (geometric_dist[i-1] * p) \n",
    "        \n",
    "    return geometric_dist"
   ]
  },
  {
   "cell_type": "code",
   "execution_count": 35,
   "id": "6a4863c1",
   "metadata": {},
   "outputs": [
    {
     "data": {
      "application/vnd.jupyter.widget-view+json": {
       "model_id": "0e47ef6a8a7d43c7b395a74e1f8aa14e",
       "version_major": 2,
       "version_minor": 0
      },
      "text/plain": [
       "interactive(children=(FloatSlider(value=0.5, description='rate', max=1.0, step=0.01), IntSlider(value=10, desc…"
      ]
     },
     "metadata": {},
     "output_type": "display_data"
    }
   ],
   "source": [
    "text_offset = 5\n",
    "\n",
    "@widgets.interact(rate = widgets.FloatSlider(value=.5, min=0, max=1, step=.01),\n",
    "                 n_bins = widgets.IntSlider(value=10, min=5, max=20, step=1))\n",
    "\n",
    "def plot_hists(rate, n_bins):\n",
    "    fig, ax = plt.subplots()\n",
    "    geom_dist = get_geometric_dist(rate, n_bins)\n",
    "    vals = np.round(get_geometric_dist(rate, n_bins) * 39)\n",
    "    bins = np.arange(4, n_bins + 4)\n",
    "    ax.bar(bins, vals)\n",
    "    ax.set_ylim(0, 30)\n",
    "\n",
    "    ax.text(plt.xlim()[1]-text_offset, plt.ylim()[1]-text_offset, f\"total prob_mass = {np.sum(geom_dist):.3f},\\ntotal n_trials = {np.sum(vals)},\\ntotal time = {np.dot(vals,bins)}\")\n",
    "    plt.show()\n",
    "#     print(plt.xlim()[0]-2, plt.ylim()[0]-2, f\"total PM = {np.sum(geom_dist)},\\ntotal n_trials = {np.sum(vals)}\")\n",
    "    \n"
   ]
  }
 ],
 "metadata": {
  "kernelspec": {
   "display_name": "Python 3 (ipykernel)",
   "language": "python",
   "name": "python3"
  },
  "language_info": {
   "codemirror_mode": {
    "name": "ipython",
    "version": 3
   },
   "file_extension": ".py",
   "mimetype": "text/x-python",
   "name": "python",
   "nbconvert_exporter": "python",
   "pygments_lexer": "ipython3",
   "version": "3.9.13"
  }
 },
 "nbformat": 4,
 "nbformat_minor": 5
}
