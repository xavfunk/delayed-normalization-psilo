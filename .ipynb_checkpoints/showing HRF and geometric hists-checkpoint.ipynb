{
 "cells": [
  {
   "cell_type": "markdown",
   "id": "9265102a",
   "metadata": {},
   "source": [
    "## The Geometric distribution is the discrete equivalent of the Exponential\n",
    "\n",
    "see also [wiki](https://en.wikipedia.org/wiki/Geometric_distribution).\n",
    "\n",
    "In fact, the method Tomas used to draw the initial histogram was choosing some rate (parameter $p$, $\\lambda$ is the exponential distribution equivalent), in this case .5 and proceeding as follows:\n",
    "\n",
    "```\n",
    "bin_1 = n_trials * .5\n",
    "bin_2 = bin_1 - bin_1 * .5\n",
    "bin_3 = bin_2 - bin_2 * .5\n",
    ".\n",
    ".\n",
    ".\n",
    "```\n",
    "Therefore, one could try out different rates for this."
   ]
  },
  {
   "cell_type": "code",
   "execution_count": 5,
   "id": "c42fd3bc",
   "metadata": {},
   "outputs": [],
   "source": [
    "import numpy as np\n",
    "import ipywidgets as widgets  # interactive display\n",
    "import matplotlib.pyplot as plt"
   ]
  },
  {
   "cell_type": "code",
   "execution_count": 3,
   "id": "6857a3d2",
   "metadata": {},
   "outputs": [],
   "source": [
    "def get_geometric_dist(p, length):\n",
    "    \n",
    "    geometric_dist = np.zeros(length)\n",
    "    geometric_dist[0] = p\n",
    "    \n",
    "    for i in range(1, length):\n",
    "        geometric_dist[i] = geometric_dist[i-1] - (geometric_dist[i-1] * p) \n",
    "        \n",
    "    return geometric_dist"
   ]
  },
  {
   "cell_type": "code",
   "execution_count": 6,
   "id": "9e7c9ef9",
   "metadata": {},
   "outputs": [
    {
     "data": {
      "application/vnd.jupyter.widget-view+json": {
       "model_id": "6c7e34c289374d7aa9f5779b184f7442",
       "version_major": 2,
       "version_minor": 0
      },
      "text/plain": [
       "interactive(children=(FloatSlider(value=0.5, description='rate', max=1.0, step=0.01), IntSlider(value=10, desc…"
      ]
     },
     "metadata": {},
     "output_type": "display_data"
    }
   ],
   "source": [
    "text_offset = 5\n",
    "\n",
    "@widgets.interact(rate = widgets.FloatSlider(value=.5, min=0, max=1, step=.01),\n",
    "                 n_bins = widgets.IntSlider(value=10, min=5, max=20, step=1)\n",
    "                 n_trials = widgets.IntSlider(value=39, min=5, max=50, step=1))\n",
    "\n",
    "def plot_hists(rate, n_bins, n_trials):\n",
    "    fig, ax = plt.subplots()\n",
    "    geom_dist = get_geometric_dist(rate, n_bins)\n",
    "    vals = np.round(get_geometric_dist(rate, n_bins) * n_trials)\n",
    "    bins = np.arange(4, n_bins + 4)\n",
    "    ax.bar(bins, vals)\n",
    "    ax.set_ylim(0, 30)\n",
    "\n",
    "    ax.text(plt.xlim()[1]-text_offset, plt.ylim()[1]-text_offset, f\"total prob_mass = {np.sum(geom_dist):.3f},\\ntotal n_trials = {np.sum(vals)},\\ntotal time = {np.dot(vals,bins)}\")\n",
    "    plt.show()\n",
    "#     print(plt.xlim()[0]-2, plt.ylim()[0]-2, f\"total PM = {np.sum(geom_dist)},\\ntotal n_trials = {np.sum(vals)}\")\n",
    "    "
   ]
  },
  {
   "cell_type": "markdown",
   "id": "0cdc5f8a",
   "metadata": {},
   "source": [
    "from https://arxiv.org/pdf/2004.13361.pdf\n",
    "\n",
    "## The canonical HRF\n",
    "\n",
    "There exists several models to describe the functional shape of the HRF. As we mentioned above, one of the most widely used is the two-gamma distribution model [11](https://citeseerx.ist.psu.edu/document?repid=rep1&type=pdf&doi=894ae718197c528700bc4c8bf9a3b94bf4be6a7d), usually referred to as the canonical HRF. In general, the canonical HRF in a parametric model that can be written as:\n",
    "\n",
    "$$\n",
    "h(t) = \\frac{t^{a_1−1}e^{-a_2t}}{\\Gamma(a_1)} - \\alpha \\frac{t^{a_3−1}e^{-a_4t}}{\\Gamma(a_3)},\n",
    "$$\n",
    "\n",
    "where $\\Gamma(\\cdot)$ is the Gamma function, $\\alpha$ controls the relative rati of response to undershoot, and $a_1$, $a_2$, $a_3$, and $a_4$ are four parameters that controls the functional shape of the HRF. Therefore, for this model, a total number of 5 parameters are required to define the HRF."
   ]
  },
  {
   "cell_type": "code",
   "execution_count": 7,
   "id": "6929b4bd",
   "metadata": {},
   "outputs": [
    {
     "data": {
      "text/plain": [
       "[<matplotlib.lines.Line2D at 0x7f718f8ea4c0>]"
      ]
     },
     "execution_count": 7,
     "metadata": {},
     "output_type": "execute_result"
    },
    {
     "data": {
      "image/png": "[encoded data removed]",
      "text/plain": [
       "<Figure size 640x480 with 1 Axes>"
      ]
     },
     "metadata": {},
     "output_type": "display_data"
    }
   ],
   "source": [
    "from scipy.special import gamma\n",
    "\n",
    "def canHRF(t, a1=6, a2=1, a3=16, a4=1, alpha=1/6):\n",
    "    \"\"\"\n",
    "    makes a canonical two-gamma HRF according to \n",
    "    \n",
    "    $$\n",
    "    h(t) = \\frac{t^{a_1−1}e^{-a_2t}}{\\Gamma(a_1)} - \\alpha \\frac{t^{a_3−1}e^{-a_4t}}{\\Gamma(a_3)},\n",
    "    $$\n",
    "    \n",
    "    t is the input time\n",
    "    a1, a2, a3, a4 are shape params\n",
    "    alpha controls the ratio of response to undershoot\n",
    "    \n",
    "    some plausible parameters are: alpha = 1/6, a1 = 6, \n",
    "    a3 = 16 and a2 = a4 = 1, see defaults, \n",
    "    which give a nice hrf returning to baseline after 25s\n",
    "    \"\"\"\n",
    "    \n",
    "    hrf = (t**(a1-1) * np.exp(-a2*t))/gamma(a1) - alpha * (t**(a3-1) * np.exp(-a4*t))/gamma(a3)\n",
    "    return hrf\n",
    "\n",
    "t = np.linspace(0, 30, 100)\n",
    "plt.plot(t, canHRF(t))"
   ]
  }
 ],
 "metadata": {
  "kernelspec": {
   "display_name": "Python 3 (ipykernel)",
   "language": "python",
   "name": "python3"
  },
  "language_info": {
   "codemirror_mode": {
    "name": "ipython",
    "version": 3
   },
   "file_extension": ".py",
   "mimetype": "text/x-python",
   "name": "python",
   "nbconvert_exporter": "python",
   "pygments_lexer": "ipython3",
   "version": "3.9.13"
  }
 },
 "nbformat": 4,
 "nbformat_minor": 5
}
