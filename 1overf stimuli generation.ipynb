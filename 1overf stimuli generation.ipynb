{
 "cells": [
  {
   "cell_type": "code",
   "execution_count": 2,
   "id": "029b2a8a",
   "metadata": {},
   "outputs": [],
   "source": [
    "import numpy as np\n",
    "import matplotlib.pyplot as plt\n",
    "import ipywidgets as widgets  # interactive display"
   ]
  },
  {
   "cell_type": "code",
   "execution_count": 3,
   "id": "100f1701",
   "metadata": {},
   "outputs": [],
   "source": [
    "def create_basic_textures(tex_size, amplitude_exponent, n_textures):\n",
    "    \n",
    "    # half of texture\n",
    "    t2 = int(tex_size/2)\n",
    "    \n",
    "    # making the grid from negative t2 through 0 to postitive t2\n",
    "    X,Y = np.meshgrid(np.linspace(-t2,t2,tex_size,endpoint=True),\n",
    "                    np.linspace(-t2,t2,tex_size,endpoint=True))\n",
    "    \n",
    "    # making an eccentricity with lower values towards the middle\n",
    "    ecc = np.sqrt(X**2 + Y**2)\n",
    "    \n",
    "    # ecc**-amplitude_exponent accentuates eccentricity and inverts values, now a peak in the middle of spectrum\n",
    "    # fftshift shifts the zero-frequency component to the center of the sprectrum, the middle \"to the corners\"\n",
    "    ampl_spectrum = np.fft.fftshift(ecc**-amplitude_exponent, (0,1))\n",
    "    \n",
    "    # bunch of random phases in tex_size\n",
    "    phases = np.random.randn(n_textures, tex_size, tex_size) * 2 * np.pi\n",
    "    \n",
    "    # placeholder for result\n",
    "    textures = np.zeros((n_textures, tex_size, tex_size))\n",
    "    \n",
    "    # loop over different textures\n",
    "    for nt in range(n_textures):\n",
    "        # merging amplitudes and phases into a complex number\n",
    "        compl_f = ampl_spectrum * np.sin(phases[nt]) + 1j * ampl_spectrum * np.cos(phases[nt])\n",
    "        # inverse fft, then taking real part\n",
    "        textures[nt] = np.fft.ifft2(compl_f).real\n",
    "        # center at zero\n",
    "        textures[nt] -= textures[nt].mean()\n",
    "        # scale and clip to be within [-1,1] -- all kosher? seems like actually is scaled between 0 and 1\n",
    "        textures[nt] /= textures[nt].std()*6.666\n",
    "        textures[nt] += 0.5\n",
    "        textures[nt][textures[nt]<0] = 0\n",
    "        textures[nt][textures[nt]>1] = 1\n",
    "\n",
    "    return textures\n"
   ]
  },
  {
   "cell_type": "markdown",
   "id": "7dd15dd2",
   "metadata": {},
   "source": [
    "### Producing stimuli\n",
    "\n",
    "- max contrast\n",
    "- generate at 1024 x 1024, show at 920 x 920\n",
    "- according to [Isherwood2017](https://www.sciencedirect.com/science/article/pii/S1053811916305602#s0085)\n",
    "    - $\\alpha$ between .75 and 1.25"
   ]
  },
  {
   "cell_type": "code",
   "execution_count": 11,
   "id": "d74f2e8f",
   "metadata": {},
   "outputs": [],
   "source": [
    "# create\n",
    "n_textures=10\n",
    "tex_size = 1024\n",
    "amplitude_exponent = 1\n",
    "\n",
    "texture = create_basic_textures(tex_size = tex_size, amplitude_exponent=amplitude_exponent, n_textures= n_textures)"
   ]
  },
  {
   "cell_type": "code",
   "execution_count": 9,
   "id": "b53e2cef",
   "metadata": {},
   "outputs": [
    {
     "data": {
      "text/plain": [
       "0.0"
      ]
     },
     "execution_count": 9,
     "metadata": {},
     "output_type": "execute_result"
    }
   ],
   "source": [
    "np.min(texture[1])"
   ]
  },
  {
   "cell_type": "code",
   "execution_count": 5,
   "id": "e507cb70",
   "metadata": {},
   "outputs": [
    {
     "data": {
      "application/vnd.jupyter.widget-view+json": {
       "model_id": "c672892844b544b38a69ba0fafd0cfd5",
       "version_major": 2,
       "version_minor": 0
      },
      "text/plain": [
       "interactive(children=(IntSlider(value=0, description='i', max=10), Output()), _dom_classes=('widget-interact',…"
      ]
     },
     "metadata": {},
     "output_type": "display_data"
    }
   ],
   "source": [
    "# inspect\n",
    "@widgets.interact(i = widgets.IntSlider(value=0, min=0, max=n_textures, step=1))\n",
    "\n",
    "def plot_ims(i):\n",
    "    plt.imshow(texture[i])"
   ]
  },
  {
   "cell_type": "code",
   "execution_count": 21,
   "id": "6169a38b",
   "metadata": {},
   "outputs": [],
   "source": [
    "# save\n",
    "from PIL import Image\n",
    "\n",
    "for i in range(n_textures):\n",
    "    im = Image.fromarray(texture[i], mode = 'P')\n",
    "    im.save(f\"oneOverF_texture_{amplitude_exponent}_{tex_size}_{i}.bmp\")\n"
   ]
  },
  {
   "cell_type": "code",
   "execution_count": 32,
   "id": "ac3eb7f9",
   "metadata": {},
   "outputs": [],
   "source": [
    "import imageio\n",
    "\n",
    "for i in range(n_textures):\n",
    "    out_path = f\"textures/oneOverF_texture_{amplitude_exponent}_{tex_size}_{i}.bmp\"\n",
    "    imageio.imwrite(out_path, (texture[i]*255).astype(np.uint8))\n"
   ]
  },
  {
   "cell_type": "code",
   "execution_count": 30,
   "id": "a5b9203f",
   "metadata": {},
   "outputs": [
    {
     "data": {
      "text/plain": [
       "array([[179, 171, 168, ..., 163, 177, 153],\n",
       "       [190, 153, 163, ..., 188, 188, 189],\n",
       "       [222, 179, 184, ..., 194, 189, 207],\n",
       "       ...,\n",
       "       [151, 149, 136, ..., 161, 189, 203],\n",
       "       [125, 143, 147, ..., 151, 182, 165],\n",
       "       [160, 166, 153, ..., 190, 173, 162]], dtype=uint8)"
      ]
     },
     "execution_count": 30,
     "metadata": {},
     "output_type": "execute_result"
    }
   ],
   "source": [
    "(texture[i]*256).astype(np.uint8)"
   ]
  },
  {
   "cell_type": "markdown",
   "id": "8f9aadd3",
   "metadata": {
    "heading_collapsed": true
   },
   "source": [
    "### Messing with the function"
   ]
  },
  {
   "cell_type": "code",
   "execution_count": 46,
   "id": "9b458f00",
   "metadata": {
    "hidden": true
   },
   "outputs": [],
   "source": [
    "tex_size = 50\n",
    "t2 = tex_size/2\n",
    "X,Y = np.meshgrid(np.linspace(-t2,t2,tex_size,endpoint=True),\n",
    "                    np.linspace(-t2,t2,tex_size,endpoint=True))\n",
    "ecc = np.sqrt(X**2 + Y**2)\n"
   ]
  },
  {
   "cell_type": "code",
   "execution_count": 47,
   "id": "2cbefb02",
   "metadata": {
    "hidden": true
   },
   "outputs": [
    {
     "data": {
      "text/plain": [
       "<matplotlib.image.AxesImage at 0x7f29b9a5e520>"
      ]
     },
     "execution_count": 47,
     "metadata": {},
     "output_type": "execute_result"
    },
    {
     "data": {
      "image/png": "[encoded data removed]",
      "text/plain": [
       "<Figure size 640x480 with 1 Axes>"
      ]
     },
     "metadata": {},
     "output_type": "display_data"
    }
   ],
   "source": [
    "plt.imshow(ecc)"
   ]
  },
  {
   "cell_type": "code",
   "execution_count": 56,
   "id": "7c33e32c",
   "metadata": {
    "hidden": true
   },
   "outputs": [
    {
     "data": {
      "text/plain": [
       "<matplotlib.image.AxesImage at 0x7f29b9494a30>"
      ]
     },
     "execution_count": 56,
     "metadata": {},
     "output_type": "execute_result"
    },
    {
     "data": {
      "image/png": "[encoded data removed]",
      "text/plain": [
       "<Figure size 640x480 with 1 Axes>"
      ]
     },
     "metadata": {},
     "output_type": "display_data"
    }
   ],
   "source": [
    "plt.imshow(ecc**-amplitude_exponent)"
   ]
  },
  {
   "cell_type": "code",
   "execution_count": 55,
   "id": "949f14da",
   "metadata": {
    "hidden": true
   },
   "outputs": [
    {
     "data": {
      "text/plain": [
       "<matplotlib.image.AxesImage at 0x7f29b96c4670>"
      ]
     },
     "execution_count": 55,
     "metadata": {},
     "output_type": "execute_result"
    },
    {
     "data": {
      "image/png": "[encoded data removed]",
      "text/plain": [
       "<Figure size 640x480 with 1 Axes>"
      ]
     },
     "metadata": {},
     "output_type": "display_data"
    }
   ],
   "source": [
    "amplitude_exponent=1.25\n",
    "ampl_spectrum = np.fft.fftshift(ecc**-amplitude_exponent, (0,1))\n",
    "plt.imshow(ampl_spectrum)"
   ]
  },
  {
   "cell_type": "code",
   "execution_count": 59,
   "id": "2904cb7a",
   "metadata": {
    "hidden": true
   },
   "outputs": [
    {
     "data": {
      "text/plain": [
       "(100, 50, 50)"
      ]
     },
     "execution_count": 59,
     "metadata": {},
     "output_type": "execute_result"
    }
   ],
   "source": [
    "phases = np.random.randn(n_textures, tex_size, tex_size) * 2 * np.pi\n",
    "phases.shape\n",
    "\n"
   ]
  },
  {
   "cell_type": "code",
   "execution_count": 60,
   "id": "9083b445",
   "metadata": {
    "hidden": true
   },
   "outputs": [
    {
     "data": {
      "application/vnd.jupyter.widget-view+json": {
       "model_id": "eaafe1dab9a34733b47438de1806233f",
       "version_major": 2,
       "version_minor": 0
      },
      "text/plain": [
       "interactive(children=(IntSlider(value=0, description='i'), Output()), _dom_classes=('widget-interact',))"
      ]
     },
     "metadata": {},
     "output_type": "display_data"
    }
   ],
   "source": [
    "@widgets.interact(i = widgets.IntSlider(value=0, min=0, max=n_textures, step=1))\n",
    "\n",
    "def plot_ims(i):\n",
    "    plt.imshow(phases[i])"
   ]
  },
  {
   "cell_type": "code",
   "execution_count": 63,
   "id": "56f626bc",
   "metadata": {
    "hidden": true
   },
   "outputs": [
    {
     "data": {
      "text/plain": [
       "(50, 50)"
      ]
     },
     "execution_count": 63,
     "metadata": {},
     "output_type": "execute_result"
    }
   ],
   "source": [
    "nt = 1\n",
    "compl_f = ampl_spectrum * np.sin(phases[nt]) + 1j * ampl_spectrum * np.cos(phases[nt])\n",
    "compl_f.shape"
   ]
  },
  {
   "cell_type": "code",
   "execution_count": 68,
   "id": "2a21e55b",
   "metadata": {
    "hidden": true
   },
   "outputs": [
    {
     "data": {
      "text/plain": [
       "<matplotlib.image.AxesImage at 0x7f29b8fe0850>"
      ]
     },
     "execution_count": 68,
     "metadata": {},
     "output_type": "execute_result"
    },
    {
     "data": {
      "image/png": "[encoded data removed]",
      "text/plain": [
       "<Figure size 640x480 with 1 Axes>"
      ]
     },
     "metadata": {},
     "output_type": "display_data"
    }
   ],
   "source": [
    "texture_ = np.fft.ifft2(compl_f).real\n",
    "texture_.shape\n",
    "plt.imshow(texture_)"
   ]
  },
  {
   "cell_type": "code",
   "execution_count": 70,
   "id": "8231e7c5",
   "metadata": {
    "hidden": true
   },
   "outputs": [
    {
     "data": {
      "text/plain": [
       "<matplotlib.image.AxesImage at 0x7f29b90c1a00>"
      ]
     },
     "execution_count": 70,
     "metadata": {},
     "output_type": "execute_result"
    },
    {
     "data": {
      "image/png": "[encoded data removed]",
      "text/plain": [
       "<Figure size 640x480 with 1 Axes>"
      ]
     },
     "metadata": {},
     "output_type": "display_data"
    }
   ],
   "source": [
    "# scale and clip\n",
    "texture_ /= texture_.std()*6.666\n",
    "texture_ += 0.5\n",
    "texture_[texture_<0] = 0\n",
    "texture_[texture_>1] = 1\n",
    "\n",
    "plt.imshow(texture_)"
   ]
  }
 ],
 "metadata": {
  "kernelspec": {
   "display_name": "Python 3 (ipykernel)",
   "language": "python",
   "name": "python3"
  },
  "language_info": {
   "codemirror_mode": {
    "name": "ipython",
    "version": 3
   },
   "file_extension": ".py",
   "mimetype": "text/x-python",
   "name": "python",
   "nbconvert_exporter": "python",
   "pygments_lexer": "ipython3",
   "version": "3.9.13"
  }
 },
 "nbformat": 4,
 "nbformat_minor": 5
}
