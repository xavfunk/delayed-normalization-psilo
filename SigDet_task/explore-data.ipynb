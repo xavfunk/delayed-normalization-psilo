{
 "cells": [
  {
   "cell_type": "markdown",
   "id": "fe3df4f1",
   "metadata": {},
   "source": [
    "## Exploration of SIgnal Detection data\n",
    "\n",
    "This notebook quickly summarizes a run of the Signal Detection task, by counting the amount of nans, answers to 0-opacity trials, as well as plotting the psychophysical curves on basis of the data.\n",
    "\n",
    "After inspecting the data it was discovered that of course, one needs to 'flip' the data for 0-opacity, for plotting onto the psychophysical curve, as the responses are coded as correct/false in the output of the experiment."
   ]
  },
  {
   "cell_type": "code",
   "execution_count": 1,
   "id": "82403aca",
   "metadata": {},
   "outputs": [],
   "source": [
    "import pandas as pd\n",
    "import matplotlib.pyplot as plt"
   ]
  },
  {
   "cell_type": "code",
   "execution_count": 2,
   "id": "4240e1b1",
   "metadata": {},
   "outputs": [
    {
     "data": {
      "text/html": [
       "<div>\n",
       "<style scoped>\n",
       "    .dataframe tbody tr th:only-of-type {\n",
       "        vertical-align: middle;\n",
       "    }\n",
       "\n",
       "    .dataframe tbody tr th {\n",
       "        vertical-align: top;\n",
       "    }\n",
       "\n",
       "    .dataframe thead th {\n",
       "        text-align: right;\n",
       "    }\n",
       "</style>\n",
       "<table border=\"1\" class=\"dataframe\">\n",
       "  <thead>\n",
       "    <tr style=\"text-align: right;\">\n",
       "      <th></th>\n",
       "      <th>opacity</th>\n",
       "      <th>response</th>\n",
       "      <th>subject</th>\n",
       "    </tr>\n",
       "  </thead>\n",
       "  <tbody>\n",
       "    <tr>\n",
       "      <th>0</th>\n",
       "      <td>0.000</td>\n",
       "      <td>NaN</td>\n",
       "      <td>97</td>\n",
       "    </tr>\n",
       "    <tr>\n",
       "      <th>1</th>\n",
       "      <td>0.000</td>\n",
       "      <td>1.0</td>\n",
       "      <td>97</td>\n",
       "    </tr>\n",
       "    <tr>\n",
       "      <th>2</th>\n",
       "      <td>0.000</td>\n",
       "      <td>0.0</td>\n",
       "      <td>97</td>\n",
       "    </tr>\n",
       "    <tr>\n",
       "      <th>3</th>\n",
       "      <td>0.000</td>\n",
       "      <td>0.0</td>\n",
       "      <td>97</td>\n",
       "    </tr>\n",
       "    <tr>\n",
       "      <th>4</th>\n",
       "      <td>0.010</td>\n",
       "      <td>1.0</td>\n",
       "      <td>97</td>\n",
       "    </tr>\n",
       "    <tr>\n",
       "      <th>...</th>\n",
       "      <td>...</td>\n",
       "      <td>...</td>\n",
       "      <td>...</td>\n",
       "    </tr>\n",
       "    <tr>\n",
       "      <th>795</th>\n",
       "      <td>0.000</td>\n",
       "      <td>0.0</td>\n",
       "      <td>01</td>\n",
       "    </tr>\n",
       "    <tr>\n",
       "      <th>796</th>\n",
       "      <td>0.000</td>\n",
       "      <td>1.0</td>\n",
       "      <td>01</td>\n",
       "    </tr>\n",
       "    <tr>\n",
       "      <th>797</th>\n",
       "      <td>0.040</td>\n",
       "      <td>1.0</td>\n",
       "      <td>01</td>\n",
       "    </tr>\n",
       "    <tr>\n",
       "      <th>798</th>\n",
       "      <td>0.005</td>\n",
       "      <td>0.0</td>\n",
       "      <td>01</td>\n",
       "    </tr>\n",
       "    <tr>\n",
       "      <th>799</th>\n",
       "      <td>0.005</td>\n",
       "      <td>0.0</td>\n",
       "      <td>01</td>\n",
       "    </tr>\n",
       "  </tbody>\n",
       "</table>\n",
       "<p>800 rows × 3 columns</p>\n",
       "</div>"
      ],
      "text/plain": [
       "     opacity  response subject\n",
       "0      0.000       NaN      97\n",
       "1      0.000       1.0      97\n",
       "2      0.000       0.0      97\n",
       "3      0.000       0.0      97\n",
       "4      0.010       1.0      97\n",
       "..       ...       ...     ...\n",
       "795    0.000       0.0      01\n",
       "796    0.000       1.0      01\n",
       "797    0.040       1.0      01\n",
       "798    0.005       0.0      01\n",
       "799    0.005       0.0      01\n",
       "\n",
       "[800 rows x 3 columns]"
      ]
     },
     "execution_count": 2,
     "metadata": {},
     "output_type": "execute_result"
    }
   ],
   "source": [
    "subnrs = ['97', '01']\n",
    "ops = []\n",
    "resps = []\n",
    "subs = []\n",
    "\n",
    "for subnr in subnrs:\n",
    "#     subnr = '97'\n",
    "    data_path = f'detection_data/{subnr}/{subnr}_events.tsv'\n",
    "    dat = pd.read_csv(data_path, sep='\\t')\n",
    "    for trial in dat.trial_nr.unique():\n",
    "    #     print(trial)\n",
    "        trial_df = dat[dat.trial_nr == trial]\n",
    "        opacity = trial_df.signal_opacity.iloc[0]\n",
    "        try:\n",
    "            response_correct = trial_df[trial_df.event_type == 'response'].correct.values[0]\n",
    "        except IndexError:\n",
    "            response_correct = None\n",
    "        ops.append(opacity)\n",
    "        resps.append(response_correct)\n",
    "        subs.append(subnr)\n",
    "        \n",
    "resps_df = pd.DataFrame({'opacity' : ops,'response' : resps, 'subject': subs})\n",
    "resps_df"
   ]
  },
  {
   "cell_type": "code",
   "execution_count": 23,
   "id": "44f63371",
   "metadata": {
    "scrolled": true
   },
   "outputs": [
    {
     "name": "stdout",
     "output_type": "stream",
     "text": [
      "subject 97 has 15 of 400 missing values\n",
      "subject 97 has responded 145.0 times \"yes\" to empty trials\n",
      "subject 01 has 11 of 400 missing values\n",
      "subject 01 has responded 175.0 times \"yes\" to empty trials\n"
     ]
    }
   ],
   "source": [
    "# descriptive checks\n",
    "for subnr in subnrs:\n",
    "    # count nans\n",
    "    print(f'subject {subnr} has {resps_df[resps_df.subject == subnr].response.isna().sum()} of 400 missing values')\n",
    "    print(f'subject {subnr} has responded {resps_df[(resps_df.subject == subnr) & (resps_df.opacity == 0)].response.sum()} times \"yes\" to empty trials')    "
   ]
  },
  {
   "cell_type": "code",
   "execution_count": 25,
   "id": "c6eb9dd1",
   "metadata": {},
   "outputs": [
    {
     "data": {
      "text/plain": [
       "<matplotlib.legend.Legend at 0x7f076d24c400>"
      ]
     },
     "execution_count": 25,
     "metadata": {},
     "output_type": "execute_result"
    },
    {
     "data": {
      "image/png": "[encoded data removed]",
      "text/plain": [
       "<Figure size 640x480 with 1 Axes>"
      ]
     },
     "metadata": {},
     "output_type": "display_data"
    }
   ],
   "source": [
    "fig, ax =  plt.subplots()\n",
    "\n",
    "for subnr in subnrs:\n",
    "    means = []\n",
    "    stds = []\n",
    "    sub_df = resps_df[resps_df.subject == subnr]\n",
    "\n",
    "    ops = sub_df.opacity.unique()\n",
    "    ops.sort()\n",
    "    for op in ops:\n",
    "#         print(op)    \n",
    "        mean = sub_df[sub_df.opacity == op].response.mean()\n",
    "        std = sub_df[sub_df.opacity == op].response.std()\n",
    "        \n",
    "        # flip answers for 0-opacity\n",
    "        if op == 0.0:\n",
    "            mean = 1-mean\n",
    "        \n",
    "        means.append(mean)\n",
    "        stds.append(std)\n",
    "        \n",
    "    ax.plot(ops, means, marker = 'o', label = f'sub-{subnr}')\n",
    "    \n",
    "\n",
    "ax.set_xlabel('Target stimulus opacity')\n",
    "ax.set_ylabel('P(yes)')\n",
    "ax.legend()\n"
   ]
  },
  {
   "cell_type": "markdown",
   "id": "a89970c1",
   "metadata": {},
   "source": [
    "## Notes\n",
    "\n",
    "For the first two pilots, subjects 97 and 01, there is a weird pattern in "
   ]
  }
 ],
 "metadata": {
  "kernelspec": {
   "display_name": "cardioception",
   "language": "python",
   "name": "cardioception"
  },
  "language_info": {
   "codemirror_mode": {
    "name": "ipython",
    "version": 3
   },
   "file_extension": ".py",
   "mimetype": "text/x-python",
   "name": "python",
   "nbconvert_exporter": "python",
   "pygments_lexer": "ipython3",
   "version": "3.9.13"
  }
 },
 "nbformat": 4,
 "nbformat_minor": 5
}
